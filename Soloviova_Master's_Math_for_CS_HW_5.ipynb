{
  "nbformat": 4,
  "nbformat_minor": 0,
  "metadata": {
    "colab": {
      "provenance": []
    },
    "kernelspec": {
      "name": "python3",
      "display_name": "Python 3"
    },
    "language_info": {
      "name": "python"
    }
  },
  "cells": [
    {
      "cell_type": "markdown",
      "source": [
        "# Завдання 1\n",
        "\n",
        "Виконай диференціювання функції та знайди значення похідних у точках\n",
        "x = 1 і x = -1/2. Розв’яжи програмно та аналітично.\n",
        "\n",
        "$$\\frac{\\text{x3}}{\\text{3}} + \\frac{x2}{2}- 2x$$\n",
        "\n",
        "$$\\sqrt{{\\mathrm{x}}^2 + 1}$$\n",
        "\n",
        "$$\\frac{1}{\\sqrt{{\\mathrm{x}}^2 + 1}}$$"
      ],
      "metadata": {
        "id": "ffYxw0YSgFSo"
      }
    },
    {
      "cell_type": "markdown",
      "source": [
        "# Аналітичний розв'язок"
      ],
      "metadata": {
        "id": "t92l1Wr64DbS"
      }
    },
    {
      "cell_type": "markdown",
      "source": [
        "**Функція 1**:  ${\\mathrm{f}}({\\mathrm{x}})= \\frac{\\text{x3}}{\\text{3}} + \\frac{x2}{2}- 2x$"
      ],
      "metadata": {
        "id": "2K-M7QTo4Kyl"
      }
    },
    {
      "cell_type": "markdown",
      "source": [
        "\n",
        "\n",
        "1.   Знайдемо похідну функції ${\\mathrm{f}}({\\mathrm{x}})$:\n",
        "\n",
        "${\\mathrm{f}}({\\mathrm{x}}) = \\frac{\\text{x3}}{\\text{3}} + \\frac{x2}{2}- 2x$\n",
        "\n",
        "${\\mathrm{f}}({\\mathrm{x}}) = \\frac{{\\mathrm{d}}}{{\\mathrm{dx}}}\\left(\\frac{{\\mathrm{x}}3}{3}\\right) + \\frac{{\\mathrm{d}}}{\\mathrm{dx}}\\left(\\frac{{\\mathrm{x}}3}{2}\\right) - \\frac{{\\mathrm{d}}}{\\mathrm{dx}}\\left(2x\\right)$\n",
        "\n",
        "${\\mathrm{f}}({\\mathrm{x}}) = {\\mathrm{x}}^2 + {\\mathrm{x}} - 2$\n",
        "\n",
        "\n"
      ],
      "metadata": {
        "id": "TLW79nRnybsb"
      }
    },
    {
      "cell_type": "markdown",
      "source": [
        "\n",
        "\n",
        "2.   Знайдемо значення похідної у точках $x = 1$ і $x = -\\frac{1}{2}$\n",
        "\n",
        "Для x = 1:\n",
        "\n",
        "\\\\\n",
        "${\\mathrm{f}}(1) = 1^2 + 1- 2 = 0$\n",
        "\n",
        "\\\\\n",
        "\n",
        "Для $x = -\\frac{1}{2}$:\n",
        "\n",
        "\\\\\n",
        "\n",
        "${\\mathrm{f}}( - \\frac{1}{2}) = (- \\frac{1}{2}{\\mathrm{​}})^2 + (- \\frac{1}{2}{\\mathrm{​}})- 2 = \\frac{1}{4}{\\mathrm{​}}- \\frac{1}{2}{\\mathrm{​}}- 2 = \\frac{1}{4}- \\frac{1}{2}- 2 = \\frac{1}{4}{\\mathrm{​}}- \\frac{2}{4}{\\mathrm{​}}- \\frac{8}{4}{\\mathrm{​}} = - \\frac{9}{4}{\\mathrm{​}} = - 2.25$\n",
        "\n",
        "\\\\\n",
        "\n",
        "\n",
        "\n",
        "\n",
        "\n"
      ],
      "metadata": {
        "id": "77l4LbRgyw7p"
      }
    },
    {
      "cell_type": "markdown",
      "source": [
        "**Функція 2**:  ${\\mathrm{g}}({\\mathrm{x}}) = \\sqrt{{\\mathrm{x}}^2 + 1}$"
      ],
      "metadata": {
        "id": "4XuYgIX94ktn"
      }
    },
    {
      "cell_type": "markdown",
      "source": [
        "1.   Знайдемо похідну функції ${\\mathrm{g}}({\\mathrm{x}})$:\n",
        "\n",
        "\n",
        "${\\mathrm{g}}({\\mathrm{x}}) = \\frac{1}{2\\sqrt{x^2 + 1}}\\ldotp 2x$\n",
        "\n",
        "\n",
        "${\\mathrm{g}}({\\mathrm{x}}) = \\frac{1}{2}{\\mathrm{​}}({\\mathrm{x}}^2 + 1)^{- 1/ 2} \\cdot 2{\\mathrm{x}}$\n",
        "\n",
        "${\\mathrm{g}}({\\mathrm{x}}) = \\frac{{\\mathrm{x}}}{\\sqrt{{\\mathrm{x}}^2} + 1}$\n",
        "\n",
        "\n"
      ],
      "metadata": {
        "id": "OCCf0bRXgueY"
      }
    },
    {
      "cell_type": "markdown",
      "source": [
        "2.   Знайдемо значення похідної у точках $x = 1$ і $x = -\\frac{1}{2}$\n",
        "\n",
        "Для x = 1:\n",
        "\n",
        "${\\mathrm{g}}(1) = \\frac{1}{\\sqrt{1^{2 + 1}}}{\\mathrm{​}} = \\frac{1}{\\sqrt{2}}{\\mathrm{​}} = \\frac{1}{\\sqrt{2}}$\n",
        "\n",
        "\\\n",
        "\n",
        "Для $x = -\\frac{1}{2}$:\n",
        "\n",
        "\n",
        "${\\mathrm{g}}(- \\frac{1}{2}​) = \\frac{ - \\frac{1}{2}}{\\sqrt{( - \\frac{1}{2})}^2 + 1}​​ = \\frac{ - \\frac{1}{2}}{\\sqrt{\\frac{1}{4} + 1}}​​​​ = \\frac{ - \\frac{1}{2}}{\\sqrt{\\frac{5}{4}}}​​​​​​ = \\frac{ - \\frac{1}{2}}{\\frac{\\sqrt{5}}{2}} = \\frac{ - 1}{\\sqrt{5}} = - \\frac{1}{\\sqrt{5}}$\n",
        "\n"
      ],
      "metadata": {
        "id": "FAMA5r8j8FD6"
      }
    },
    {
      "cell_type": "markdown",
      "source": [
        "**Функція 3**:  ${\\mathrm{h}}({\\mathrm{x}}) = \\frac{1}{\\sqrt{{\\mathrm{x}}^2 + 1}}$"
      ],
      "metadata": {
        "id": "IIpplkFG8_DX"
      }
    },
    {
      "cell_type": "markdown",
      "source": [
        "1.   Знайдемо похідну функції ${\\mathrm{h}}({\\mathrm{x}})$:\n",
        "\n",
        "\\\\\n",
        "\n",
        "${\\mathrm{h}}({\\mathrm{x}}) = \\frac{1}{\\sqrt{{\\mathrm{x}}^2} + 1}$\n",
        "\n",
        "${\\mathrm{h}}({\\mathrm{x}}) = ({\\mathrm{x}}^2 + 1)^{- 1/ 2}$\n",
        "\n",
        "${\\mathrm{h}}({\\mathrm{x}}) = - \\frac{1}{2}({\\mathrm{x}}^2 + 1)^{- 3/ 2} \\cdotp 2{\\mathrm{x}}$\n",
        "\n",
        "${\\mathrm{h}}({\\mathrm{x}}) =  - \\frac{{\\mathrm{x}}}{({\\mathrm{x}}^2 + 1)^{3/ 2}}$\n",
        "\n",
        "\\\\\n",
        "\n"
      ],
      "metadata": {
        "id": "WrlpxwAo9OdP"
      }
    },
    {
      "cell_type": "markdown",
      "source": [
        "2.   Знайдемо значення похідної у точках $x = 1$ і $x = -\\frac{1}{2}$\n",
        "\n",
        "Для x = 1:\n",
        "\n",
        "${\\mathrm{h}}(1) =  - \\frac{1}{(1^2 + 1)^{3/ 2}} =  - \\frac{1}{2^{3/ 2}} =  - \\frac{1}{2\\sqrt{2}} =  - \\frac{\\sqrt{2}}{4}$\n",
        "\n",
        "\\\n",
        "\n",
        "Для $x = -\\frac{1}{2}$:\n",
        "\n",
        "\n",
        "${\\mathrm{h}}( - \\frac{1}{2}) =  - \\frac{ - \\frac{1}{2}}{(( - \\frac{1}{2})^2 + 1)^{3/ 2}} = \\frac{\\frac{1}{2}}{(\\frac{1}{4} + 1)^{3/ 2}} = \\frac{\\frac{1}{2}}{(\\frac{5}{4})^{3/ 2}} = \\frac{\\frac{1}{2}}{\\frac{5^{3/ 2}}{4^{3/ 2}}} = \\frac{2}{5\\sqrt{5}}$\n"
      ],
      "metadata": {
        "id": "jhUPh_QR9jtB"
      }
    },
    {
      "cell_type": "markdown",
      "source": [
        "# Програмний розв'язок"
      ],
      "metadata": {
        "id": "Ey89OXQs96FM"
      }
    },
    {
      "cell_type": "code",
      "source": [
        "from sympy import symbols, diff, sqrt\n",
        "\n",
        "# Символьні змінні\n",
        "x = symbols('x')\n",
        "\n",
        "# Функції\n",
        "f = x**3 / 3 + x**2 / 2 - 2*x\n",
        "g = sqrt(x**2 + 1)\n",
        "h = 1 / sqrt(x**2 + 1)\n",
        "\n",
        "# Знаходимо похідні\n",
        "df = diff(f, x)\n",
        "dg = diff(g, x)\n",
        "dh = diff(h, x)\n",
        "\n",
        "# Значення похідних у точках x = 1 і x = -1/2\n",
        "df_at_1 = df.subs(x, 1)\n",
        "df_at_minus_half = df.subs(x, -1/2)\n",
        "\n",
        "dg_at_1 = dg.subs(x, 1)\n",
        "dg_at_minus_half = dg.subs(x, -1/2)\n",
        "\n",
        "dh_at_1 = dh.subs(x, 1)\n",
        "dh_at_minus_half = dh.subs(x, -1/2)\n",
        "\n",
        "# Виводимо результати\n",
        "print(\"Для функції f(x):\")\n",
        "print(\"f'(1) =\", df_at_1)\n",
        "print(\"f'(-1/2) =\", df_at_minus_half)\n",
        "\n",
        "print(\"\\nДля функції g(x):\")\n",
        "print(\"g'(1) =\", dg_at_1)\n",
        "print(\"g'(-1/2) =\", dg_at_minus_half)\n",
        "\n",
        "print(\"\\nДля функції h(x):\")\n",
        "print(\"h'(1) =\", dh_at_1)\n",
        "print(\"h'(-1/2) =\", dh_at_minus_half)\n"
      ],
      "metadata": {
        "colab": {
          "base_uri": "https://localhost:8080/"
        },
        "id": "Yp2YP1xM-Ouo",
        "outputId": "55da7f80-9163-4f3d-d6a1-50606b6aee6e"
      },
      "execution_count": 1,
      "outputs": [
        {
          "output_type": "stream",
          "name": "stdout",
          "text": [
            "Для функції f(x):\n",
            "f'(1) = 0\n",
            "f'(-1/2) = -2.25000000000000\n",
            "\n",
            "Для функції g(x):\n",
            "g'(1) = sqrt(2)/2\n",
            "g'(-1/2) = -0.447213595499958\n",
            "\n",
            "Для функції h(x):\n",
            "h'(1) = -sqrt(2)/4\n",
            "h'(-1/2) = 0.357770876399966\n"
          ]
        }
      ]
    },
    {
      "cell_type": "markdown",
      "source": [
        "# Завдання 2\n",
        "\n",
        "Аналітично виконай диференціювання функції та знайди точку максимуму. Програмно візуалізуй функцію, її похідну та точку максимуму.\n",
        "\n",
        "\n",
        "${\\mathrm{y}} = - 3{\\mathrm{x}}^2 + 30{\\mathrm{x}}$"
      ],
      "metadata": {
        "id": "aMcUssHI_jxj"
      }
    },
    {
      "cell_type": "markdown",
      "source": [
        "1. Знайдемо похідну функції:\n",
        "\n",
        "${\\mathrm{y}} = - 3{\\mathrm{x}}^2 + 30{\\mathrm{x}}$\n",
        "\n",
        "${\\mathrm{y}} = \\frac{{\\mathrm{d}}}{{\\mathrm{dx}}}(- 3{\\mathrm{x}}^2 + 30{\\mathrm{x}})$\n",
        "\n",
        "${\\mathrm{y}} = - 6{\\mathrm{x}} + 30$"
      ],
      "metadata": {
        "id": "YYxjy1vbBdRN"
      }
    },
    {
      "cell_type": "markdown",
      "source": [
        "2. Знайдемо критичні точки, прирівнявши похідну до нуля:\n",
        "\\\n",
        "$-6x+30=0$\n",
        "\\\n",
        "$6x=30$\n",
        "\\\n",
        "$x=5\n",
        "$"
      ],
      "metadata": {
        "id": "HN1B63nlHTGn"
      }
    },
    {
      "cell_type": "markdown",
      "source": [
        "\n",
        "\n",
        "3.   Перевіримо, чи є ця точка точкою максимуму. Для цього обчислимо другу похідну функції:\n",
        "\n",
        "${\\mathrm{y}} = \\frac{{\\mathrm{d}}}{{\\mathrm{dx}}}( - 6{\\mathrm{x}} + 30)$\n",
        "\n",
        "${\\mathrm{y}} =  - 6$\n",
        "\n",
        "Оскільки друга похідна від'ємна y(x) < 0, це означає, що функція має максимум у точці x=5.\n",
        "\n",
        "\n",
        "\n",
        "\n"
      ],
      "metadata": {
        "id": "vGKuOPjBI6fm"
      }
    },
    {
      "cell_type": "markdown",
      "source": [
        "3. Знайдемо значення функції в цій точці:\n",
        "\n",
        "${\\mathrm{y}}(5) =  - 3(5)^2 + 30(5)$\n",
        "\n",
        "${\\mathrm{y}}(5) =  - 75 + 150$\n",
        "\n",
        "${\\mathrm{y}}(5) = 75$\n",
        "\n",
        "Таким чином, точка максимуму функції\n",
        "${\\mathrm{y}} = - 3{\\mathrm{x}}^2 + 30{\\mathrm{x}}$ знаходиться у точці (5,75)."
      ],
      "metadata": {
        "id": "yifNClcfIDd2"
      }
    },
    {
      "cell_type": "markdown",
      "source": [
        "# Програмний розв'язок"
      ],
      "metadata": {
        "id": "nAMhG87SaBQ3"
      }
    },
    {
      "cell_type": "code",
      "source": [
        "import numpy as np\n",
        "import matplotlib.pyplot as plt\n",
        "from sympy import symbols, diff, lambdify\n",
        "\n",
        "# Символьні змінні\n",
        "x = symbols('x')\n",
        "\n",
        "# Функція\n",
        "y = -3*x**2 + 30*x\n",
        "\n",
        "# Похідна функції\n",
        "dy = diff(y, x)\n",
        "\n",
        "# Знаходимо критичну точку\n",
        "critical_point = 5\n",
        "max_value = y.subs(x, critical_point)\n",
        "\n",
        "# Перетворюємо функції у формати, з якими можна працювати numpy\n",
        "y_np = lambdify(x, y, 'numpy')\n",
        "dy_np = lambdify(x, dy, 'numpy')\n",
        "\n",
        "# Створюємо масив значень для x\n",
        "x_vals = np.linspace(0, 10, 400)\n",
        "y_vals = y_np(x_vals)\n",
        "dy_vals = dy_np(x_vals)\n",
        "\n",
        "# Візуалізація\n",
        "plt.figure(figsize=(10, 6))\n",
        "plt.plot(x_vals, y_vals, label='Функція y = -3x^2 + 30x', color='blue')\n",
        "plt.plot(x_vals, dy_vals, label=\"Похідна y' = -6x + 30\", color='orange')\n",
        "plt.scatter(critical_point, max_value, color='red', zorder=5)\n",
        "plt.text(critical_point, max_value, f'({critical_point}, {max_value})', fontsize=12, verticalalignment='bottom')\n",
        "\n",
        "# Налаштування графіка\n",
        "plt.title('Графік функції та її похідної')\n",
        "plt.xlabel('x')\n",
        "plt.ylabel('y')\n",
        "plt.axhline(0, color='black',linewidth=0.5)\n",
        "plt.axvline(0, color='black',linewidth=0.5)\n",
        "plt.grid(color = 'gray', linestyle = '--', linewidth = 0.5)\n",
        "plt.legend()\n",
        "plt.show()\n"
      ],
      "metadata": {
        "colab": {
          "base_uri": "https://localhost:8080/",
          "height": 564
        },
        "id": "ZSLcNXddaQO6",
        "outputId": "cb352173-40ac-46f6-b123-4a5862ec2bd8"
      },
      "execution_count": 1,
      "outputs": [
        {
          "output_type": "display_data",
          "data": {
            "text/plain": [
              "<Figure size 1000x600 with 1 Axes>"
            ],
            "image/png": "[encoded data removed]"
          },
          "metadata": {}
        }
      ]
    }
  ]
}