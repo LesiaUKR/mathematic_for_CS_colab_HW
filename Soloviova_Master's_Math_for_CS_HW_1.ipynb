{
  "nbformat": 4,
  "nbformat_minor": 0,
  "metadata": {
    "colab": {
      "provenance": [],
      "include_colab_link": true
    },
    "kernelspec": {
      "name": "python3",
      "display_name": "Python 3"
    },
    "language_info": {
      "name": "python"
    }
  },
  "cells": [
    {
      "cell_type": "markdown",
      "metadata": {
        "id": "view-in-github",
        "colab_type": "text"
      },
      "source": [
        "<a href=\"https://colab.research.google.com/github/LesiaUKR/mathematic_for_CS_colab_HW/blob/main/Soloviova_Master's___Mathematics_for_CS_HW_1_.ipynb\" target=\"_parent\"><img src=\"https://colab.research.google.com/assets/colab-badge.svg\" alt=\"Open In Colab\"/></a>"
      ]
    },
    {
      "cell_type": "markdown",
      "source": [
        "# Нагадування по Markdown"
      ],
      "metadata": {
        "id": "mbmam7xBKWRj"
      }
    },
    {
      "cell_type": "markdown",
      "source": [
        "Надаємо невелике нагадування записів в\n",
        "[Markdown](https://colab.research.google.com/notebooks/markdown_guide.ipynb) (LaTeX):\n",
        "\n",
        "Markdown | Preview\n",
        "--- | ---\n",
        "`**bold text**` | **bold text**\n",
        " \\\\$\\frac{x}{y}\\\\$ | $\\frac{x}{y}$\n",
        " \\\\$p^{x}_{y}\\\\$ | $p^{x}_{y}$\n",
        "\\\\$x \\cdot y\\\\$ | $x \\cdot y$\n",
        "\\\\$\\sqrt{x}\\\\$ | $\\sqrt{x}$\n",
        "\\\\$\\pi\\\\$ | $\\pi$\n",
        "\\\\$\\approx\\\\$ | $\\approx$\n",
        "\n",
        "І ще декілька прикладів:\n",
        "\n",
        "```markdown\n",
        "$y=x^2$\n",
        "\n",
        "$e^{i\\pi} + 1 = 0$\n",
        "\n",
        "$e^x=\\sum_{i=0}^\\infty \\frac{1}{i!}x^i$\n",
        "\n",
        "$\\frac{n!}{k!(n-k)!} = {n \\choose k}$\n",
        "\n",
        "$A_{m,n} =\n",
        " \\begin{pmatrix}\n",
        "  a_{1,1} & a_{1,2} & \\cdots & a_{1,n} \\\\\n",
        "  a_{2,1} & a_{2,2} & \\cdots & a_{2,n} \\\\\n",
        "  \\vdots  & \\vdots  & \\ddots & \\vdots  \\\\\n",
        "  a_{m,1} & a_{m,2} & \\cdots & a_{m,n}\n",
        " \\end{pmatrix}$\n",
        "\n",
        " $$\n",
        " I =\n",
        " \\left (\\begin{array}{cc}\n",
        " 1 & 0\\\\\n",
        " 0 & 1\n",
        " \\end{array}\\right)\n",
        " $$\n",
        "```\n",
        "\n",
        "$y=x^2$\n",
        "\n",
        "$e^{i\\pi} + 1 = 0$\n",
        "\n",
        "$e^x=\\sum_{i=0}^\\infty \\frac{1}{i!}x^i$\n",
        "\n",
        "$\\frac{n!}{k!(n-k)!} = {n \\choose k}$\n",
        "\n",
        "$A_{m,n} =\n",
        " \\begin{pmatrix}\n",
        "  a_{1,1} & a_{1,2} & \\cdots & a_{1,n} \\\\\n",
        "  a_{2,1} & a_{2,2} & \\cdots & a_{2,n} \\\\\n",
        "  \\vdots  & \\vdots  & \\ddots & \\vdots  \\\\\n",
        "  a_{m,1} & a_{m,2} & \\cdots & a_{m,n}\n",
        " \\end{pmatrix}$\n",
        "\n",
        "$I =\n",
        "\\left (\\begin{array}{cc}\n",
        "1 & 0\\\\\n",
        "0 & 1\n",
        "\\end{array}\\right)$\n",
        " ---"
      ],
      "metadata": {
        "id": "WKbf0DcrKYHi"
      }
    },
    {
      "cell_type": "markdown",
      "source": [
        "# Завдання 1.\n",
        "В шаблоні наведені числові вектори $\\overline{a}$ та $\\overline{b}$. Порахуй наступне:\n",
        "- сума $\\overline{a}$ та $\\overline{b}$\n",
        "- різниця $\\overline{a}$ та $\\overline{b}$\n",
        "- сума $\\overline{a}$ та $\\overline{b}^T$. Поясни отриманий результат.\n",
        "- матричний добуток (dot product) $\\overline{a}$ та $\\overline{b}^T$.\n",
        "- матричний добуток (dot product) $\\overline{a}$ та $\\overline{b}$. Поясни отриманий результат.\n",
        "- добуток Адамара (Hadamard product) $\\overline{a}$ та $\\overline{b}$. Поясни отриманий результат.\n",
        "- ділення $\\overline{a}$ та $\\overline{b}$. Поясни отриманий результат.\n",
        "- ділення $\\overline{a}$ та $\\overline{b}^T$. Поясни отриманий результат."
      ],
      "metadata": {
        "id": "AQsl6FeF0Sq3"
      }
    },
    {
      "cell_type": "code",
      "source": [
        "import numpy as np\n",
        "a = np.array([[1, 2, 3, 4, 5]])\n",
        "b = np.array([[1/2, 1, 2, 3, 4]])"
      ],
      "metadata": {
        "id": "x_pAAV5I0Rqg"
      },
      "execution_count": null,
      "outputs": []
    },
    {
      "cell_type": "code",
      "source": [
        "# Сума a та b\n",
        "sum_ab = a + b\n",
        "print(\"Сума a та b:\\n\", sum_ab)"
      ],
      "metadata": {
        "id": "-TcDgKRB0n-s",
        "colab": {
          "base_uri": "https://localhost:8080/"
        },
        "outputId": "496a41fe-4254-4cb9-bf39-0cf5b4daca27"
      },
      "execution_count": null,
      "outputs": [
        {
          "output_type": "stream",
          "name": "stdout",
          "text": [
            "Сума a та b:\n",
            " [[1.5 3.  5.  7.  9. ]]\n"
          ]
        }
      ]
    },
    {
      "cell_type": "code",
      "source": [
        "# Різниця a та b\n",
        "diff_ab = a - b\n",
        "print(\"Різниця a та b:\\n\", diff_ab)"
      ],
      "metadata": {
        "id": "CcIk7MVQ1xgq",
        "colab": {
          "base_uri": "https://localhost:8080/"
        },
        "outputId": "e74f2f23-8fa4-415c-e6d6-fab77acb9e3e"
      },
      "execution_count": null,
      "outputs": [
        {
          "output_type": "stream",
          "name": "stdout",
          "text": [
            "Різниця a та b:\n",
            " [[0.5 1.  1.  1.  1. ]]\n"
          ]
        }
      ]
    },
    {
      "cell_type": "code",
      "source": [
        "# Сума a та транспонованого b (b^T)\n",
        "# Пояснення: Оскільки 𝑎 має розмір 1x5, а 𝑏^𝑇 має розмір 5x1,\n",
        "# Тому, фактично виконується зовнішнє додавання і ми отримуємо матрицю 5x5.\n",
        "# Кожен рядок у цій матриці є результатом додавання одного елемента з 𝑎 до всіх елементів 𝑏.\n",
        "# Тому, у першому рядку, всі елементи є результатом додавання першого елемента 𝑎 (1) до всіх елементів 𝑏.\n",
        "# У другому рядку, всі елементи є результатом додавання другого елемента 𝑎 (2) до всіх елементів 𝑏, і так далі.\n",
        "\n",
        "sum_abT = a + b.T\n",
        "print(\"Сума a та b^T:\\n\", sum_abT)"
      ],
      "metadata": {
        "id": "exb6q60N0uFv",
        "colab": {
          "base_uri": "https://localhost:8080/"
        },
        "outputId": "d6388697-ee01-4356-cb16-a54303ff2c41"
      },
      "execution_count": null,
      "outputs": [
        {
          "output_type": "stream",
          "name": "stdout",
          "text": [
            "Сума a та b^T:\n",
            " [[1.5 2.5 3.5 4.5 5.5]\n",
            " [2.  3.  4.  5.  6. ]\n",
            " [3.  4.  5.  6.  7. ]\n",
            " [4.  5.  6.  7.  8. ]\n",
            " [5.  6.  7.  8.  9. ]]\n"
          ]
        }
      ]
    },
    {
      "cell_type": "code",
      "source": [
        "# Матричний добуток (dot product) a та b^T\n",
        "# dot_product_abT = (1⋅0.5+2⋅1+3⋅2+4⋅3+5⋅4)=(40.5)\n",
        "dot_product_abT = np.dot(a, b.T)\n",
        "print(\"Матричний добуток (dot product) a та b^T:\\n\", dot_product_abT)"
      ],
      "metadata": {
        "colab": {
          "base_uri": "https://localhost:8080/"
        },
        "id": "KUPXhkBILQF4",
        "outputId": "6f6ee9c0-a79f-4c69-86dd-2e2a11692c8f"
      },
      "execution_count": null,
      "outputs": [
        {
          "output_type": "stream",
          "name": "stdout",
          "text": [
            "Матричний добуток (dot product) a та b^T:\n",
            " [[40.5]]\n"
          ]
        }
      ]
    },
    {
      "cell_type": "code",
      "source": [
        "# матричний добуток (dot product) a та b\n",
        "# У матричному множенні кількість стовбців першої матриці має бути рівною кількості рядків другої матриці, і навпаки.\n",
        "# Якщо матриці не мають сумісних розмірів, то операція матричного множення не може бути виконана.\n",
        "\n",
        "dot_product_ab = np.dot(a, b)\n",
        "print(\"Матричний добуток (dot product) a та b:\\n\", dot_product_ab)"
      ],
      "metadata": {
        "id": "oZB7Kx5_1c29",
        "colab": {
          "base_uri": "https://localhost:8080/",
          "height": 193
        },
        "outputId": "7307d439-01d6-4cf8-d077-f7bb521f34ab"
      },
      "execution_count": null,
      "outputs": [
        {
          "output_type": "error",
          "ename": "ValueError",
          "evalue": "shapes (1,5) and (1,5) not aligned: 5 (dim 1) != 1 (dim 0)",
          "traceback": [
            "\u001b[0;31m---------------------------------------------------------------------------\u001b[0m",
            "\u001b[0;31mValueError\u001b[0m                                Traceback (most recent call last)",
            "\u001b[0;32m<ipython-input-11-8a10c623daf7>\u001b[0m in \u001b[0;36m<cell line: 4>\u001b[0;34m()\u001b[0m\n\u001b[1;32m      2\u001b[0m \u001b[0;31m# Пояснення: обидва вектори є рядковими векторами з розмірністю 1×5\u001b[0m\u001b[0;34m\u001b[0m\u001b[0;34m\u001b[0m\u001b[0m\n\u001b[1;32m      3\u001b[0m \u001b[0;31m# У такому випадку матричний добуток не визначений, тому що розміри матриць не узгоджуються для множення.\u001b[0m\u001b[0;34m\u001b[0m\u001b[0;34m\u001b[0m\u001b[0m\n\u001b[0;32m----> 4\u001b[0;31m \u001b[0mdot_product_ab\u001b[0m \u001b[0;34m=\u001b[0m \u001b[0mnp\u001b[0m\u001b[0;34m.\u001b[0m\u001b[0mdot\u001b[0m\u001b[0;34m(\u001b[0m\u001b[0ma\u001b[0m\u001b[0;34m,\u001b[0m \u001b[0mb\u001b[0m\u001b[0;34m)\u001b[0m\u001b[0;34m\u001b[0m\u001b[0;34m\u001b[0m\u001b[0m\n\u001b[0m\u001b[1;32m      5\u001b[0m \u001b[0mprint\u001b[0m\u001b[0;34m(\u001b[0m\u001b[0;34m\"Матричний добуток (dot product) a та b:\\n\"\u001b[0m\u001b[0;34m,\u001b[0m \u001b[0mdot_product_ab\u001b[0m\u001b[0;34m)\u001b[0m\u001b[0;34m\u001b[0m\u001b[0;34m\u001b[0m\u001b[0m\n",
            "\u001b[0;31mValueError\u001b[0m: shapes (1,5) and (1,5) not aligned: 5 (dim 1) != 1 (dim 0)"
          ]
        }
      ]
    },
    {
      "cell_type": "code",
      "source": [
        "# Добуток Адамара (Hadamard product) a та b\n",
        "# Пояснення: a∘b=( 1⋅0.5 2⋅1 3⋅2 4⋅3 5⋅4)=(0.5 2 6 12 20),\n",
        "# тобто результат отримується шляхом поелементного множення відповідних елементів векторів a та b.\n",
        "hadamard_product = a * b\n",
        "print(\"Добуток Адамара (Hadamard product) a та b:\\n\", hadamard_product)"
      ],
      "metadata": {
        "id": "PbRyd3630xud",
        "colab": {
          "base_uri": "https://localhost:8080/"
        },
        "outputId": "1739a673-bbd3-4e5d-b720-bf9627387d06"
      },
      "execution_count": null,
      "outputs": [
        {
          "output_type": "stream",
          "name": "stdout",
          "text": [
            "Добуток Адамара (Hadamard product) a та b:\n",
            " [[ 0.5  2.   6.  12.  20. ]]\n"
          ]
        }
      ]
    },
    {
      "cell_type": "code",
      "source": [
        "# Ділення a на b\n",
        "# Пояснення: (1 2 3 4 5):( 0.5 1 2 3 4)=(2 2 1.5 1.33 1.25),\n",
        "# тобто результат отримується шляхом поелементного ділення відповідних елементів векторів a та b.\n",
        "division_ab = a / b\n",
        "print(\"Ділення a на b:\\n\", division_ab)"
      ],
      "metadata": {
        "id": "QPHTXr83ly7o",
        "colab": {
          "base_uri": "https://localhost:8080/"
        },
        "outputId": "d1a5490a-03b5-4bab-edfe-81d2d725f682"
      },
      "execution_count": null,
      "outputs": [
        {
          "output_type": "stream",
          "name": "stdout",
          "text": [
            "Ділення a на b:\n",
            " [[2.         2.         1.5        1.33333333 1.25      ]]\n"
          ]
        }
      ]
    },
    {
      "cell_type": "code",
      "source": [
        "# Ділення a на транспоноване b (b.T)\n",
        "# Пояснення: Оскільки 𝑎 має розмір 1x5, а b^T має розмір 5x1, ділення a на b^T неможливе через невідповідність розмірів.\n",
        "# Ця операція є некоректною.\n",
        "# При цьому За допомогою розширення масивів (broadcasting), NumPy автоматично розширює вектор b до такого ж розміру,\n",
        "# як і вектор a, а потім виконує поелементне ділення, використовуючи простий оператор ділення /.\n",
        "division_abT = a / b.T\n",
        "print(\"Ділення a на b^T:\\n\", division_abT)"
      ],
      "metadata": {
        "id": "9mAIEbkQ1pJH",
        "colab": {
          "base_uri": "https://localhost:8080/"
        },
        "outputId": "a486bda3-1920-4ff9-b403-38762c144873"
      },
      "execution_count": null,
      "outputs": [
        {
          "output_type": "stream",
          "name": "stdout",
          "text": [
            "Ділення a на b^T:\n",
            " [[ 2.          4.          6.          8.         10.        ]\n",
            " [ 1.          2.          3.          4.          5.        ]\n",
            " [ 0.5         1.          1.5         2.          2.5       ]\n",
            " [ 0.33333333  0.66666667  1.          1.33333333  1.66666667]\n",
            " [ 0.25        0.5         0.75        1.          1.25      ]]\n"
          ]
        }
      ]
    },
    {
      "cell_type": "markdown",
      "source": [
        "# Завдання 2\n",
        "В цьому завданні ти навчишся перетворювати вектори за допомогою афінних перетворень.  \n",
        "Дано вектор:\n",
        "$$\n",
        "x =\n",
        "\\left(\\begin{array}{cc}\n",
        "2\\\\\n",
        "1\n",
        "\\end{array}\\right)\n",
        "$$\n",
        "\n",
        "\n",
        "Виконай аналітично наступні завдання задавши матрицю перетворення та застосуй її до вектора $x$:\n",
        "\n",
        "1. Зменши вектор $x$ в 2 рази по вісі $OX$ та збільш в 3 рази по вісі $OY$.\n",
        "2. Відобрази вектор $x$ відносно початку координат.\n",
        "3. Перенеси вектор $x$ на -3 по вісі $OX$ та на 1 по вісі $OY$.\n",
        "4. Змісти вектор $x$ на 60° по вісі $OY$.\n",
        "5. Поверни вектор $x$ на 30°.\n",
        "6. Об'єднай перетворення з кроків 1, 2, 4, 5 в одну матрицю та застосуй її до вектору $x$."
      ],
      "metadata": {
        "id": "W-FFJ2oK0TTF"
      }
    },
    {
      "cell_type": "markdown",
      "source": [],
      "metadata": {
        "id": "coRcpu8kgMqh"
      }
    },
    {
      "cell_type": "markdown",
      "source": [],
      "metadata": {
        "id": "E-xFa3vFzKS1"
      }
    },
    {
      "cell_type": "markdown",
      "source": [
        "#### 2.1 Зменши вектор  $x$  в 2 рази по вісі  OX  та збільш в 3 рази по вісі  OY ."
      ],
      "metadata": {
        "id": "6G4BWKMB33NV"
      }
    },
    {
      "cell_type": "markdown",
      "source": [
        "$$\n",
        "M_1 =\n",
        "\\left (\\begin{array}{cc}\n",
        "\\frac{1}{2} & 0\\\\\n",
        "0 & 3\n",
        "\\end{array}\\right)\n",
        "$$\n",
        "\n",
        "$$\n",
        "M_1x =\n",
        "\\left(\\begin{array}{cc}\n",
        "\\frac{1}{2} & 0\\\\\n",
        "0 & 3\n",
        "\\end{array}\\right)\n",
        "\\left (\\begin{array}{cc}\n",
        "2\\\\\n",
        "1\n",
        "\\end{array}\\right)=\n",
        "\\left(\\begin{array}{cc}\n",
        "\\frac{1}{2} \\cdot 2 + 0 \\cdot 1\\\\\n",
        "0 \\cdot 2 + 3 \\cdot 1\n",
        "\\end{array}\\right)=\n",
        "\\left(\\begin{array}{cc}\n",
        "1\\\\\n",
        "3\n",
        "\\end{array}\\right)\n",
        "$$"
      ],
      "metadata": {
        "id": "_BvcoZCyg8nk"
      }
    },
    {
      "cell_type": "markdown",
      "source": [
        "#### 2.2 Відобрази вектор $x$ відносно початку координат."
      ],
      "metadata": {
        "id": "Rlhpc8-24M9k"
      }
    },
    {
      "cell_type": "markdown",
      "source": [
        "$$\n",
        "M_2 = \\left (\\begin{array}{cc}\n",
        "-1 & 0\\\\\n",
        "0 & -1\n",
        "\\end{array}\\right)\n",
        "\\\\\n",
        "M_2x = \\left(\\begin{array}{cc}\n",
        "-1 & 0\\\\\n",
        "0 & -1\n",
        "\\end{array}\\right)\n",
        "\\left (\\begin{array}{cc}\n",
        "2\\\\\n",
        "1\n",
        "\\end{array}\\right)=\n",
        "\\left(\\begin{array}{cc}\n",
        "-1 \\cdot 2 + 0 \\cdot 1\\\\\n",
        "0 \\cdot 2 + 1 \\cdot -1\n",
        "\\end{array}\\right)=\n",
        "\\left(\\begin{array}{cc}\n",
        "-2\\\\\n",
        "-1\n",
        "\\end{array}\\right)\n",
        "\\\\\n",
        "$$"
      ],
      "metadata": {
        "id": "35Ld0CHYgsXY"
      }
    },
    {
      "cell_type": "markdown",
      "source": [
        "#### 2.3 Перенеси вектор $x$ на -3 по вісі $OX$ та на 1 по вісі $OY$."
      ],
      "metadata": {
        "id": "V5AiNUx14MvZ"
      }
    },
    {
      "cell_type": "markdown",
      "source": [
        "$$\n",
        "M_3 =\n",
        "\\left (\\begin{array}{cc}\n",
        "1 & 0 & -3\\\\\n",
        "0 & 1 & 1\\\\\n",
        "0 & 0 & 1\n",
        "\\end{array}\\right)\\\\\n",
        "x=\n",
        "\\left (\\begin{array}{cc}\n",
        "2\\\\\n",
        "1\\\\\n",
        "1\n",
        "\\end{array}\\right)\n",
        "\\\\\n",
        "M_3x =\n",
        "\\left (\\begin{array}{cc}\n",
        "1 & 0 & -3\\\\\n",
        "0 & 1 & 1\\\\\n",
        "0 & 0 & 1\n",
        "\\end{array}\\right)\\cdot\n",
        "\\left (\\begin{array}{cc}\n",
        "2\\\\\n",
        "1\\\\\n",
        "1\n",
        "\\end{array}\\right) = \\left (\\begin{array}{cc}\n",
        "1 \\cdot 2 + 0 \\cdot 1 + (-3) \\cdot 1\\\\\n",
        "0 \\cdot 2 + 1 \\cdot 1 + 1 \\cdot 1\\\\\n",
        "0 \\cdot 2 + 0 \\cdot 1 + 1 \\cdot 1\n",
        "\\end{array}\\right)=\n",
        "\\left (\\begin{array}{cc}\n",
        "-1\\\\\n",
        "2\\\\\n",
        "1\n",
        "\\end{array}\\right)\\\\\n",
        "\\\\\n",
        "$$"
      ],
      "metadata": {
        "id": "qtzBmsNcgpQA"
      }
    },
    {
      "cell_type": "markdown",
      "source": [
        "#### 2.4 Змісти вектор $x$ на 60° по вісі $OY$.\n"
      ],
      "metadata": {
        "id": "VfjTQ4li9Neq"
      }
    },
    {
      "cell_type": "markdown",
      "source": [
        "$$\n",
        "M_4 =\n",
        "\\left (\\begin{array}{cc}\n",
        "1 & 0\\\\\n",
        "tan(θ) & 1\n",
        "\\end{array}\\right)=\n",
        "\\left (\\begin{array}{cc}\n",
        "1 & 0\\\\\n",
        "tan\\frac{\\pi}{3} & 1\n",
        "\\end{array}\\right)=\n",
        "\\left (\\begin{array}{cc}\n",
        "1 & 0\\\\\n",
        "\\sqrt{3} & 1\n",
        "\\end{array}\\right)\n",
        "\\\\\n",
        "M_4x =\n",
        "\\left (\\begin{array}{cc}\n",
        "1 & 0\\\\\n",
        "\\sqrt{3} & 1\n",
        "\\end{array}\\right)\\cdot\n",
        "\\left (\\begin{array}{cc}\n",
        "2\\\\\n",
        "1\n",
        "\\end{array}\\right)=\n",
        "\\left (\\begin{array}{cc}\n",
        "1 \\cdot 2 + 0 \\cdot 1\\\\\n",
        "\\sqrt{3} \\cdot 2 + 1 \\cdot 1\n",
        "\\end{array}\\right)=\n",
        "\\left (\\begin{array}{cc}\n",
        "2\\\\\n",
        "2\\sqrt{3} + 1\n",
        "\\end{array}\\right)\n",
        "$$"
      ],
      "metadata": {
        "id": "1-0_aTZiglze"
      }
    },
    {
      "cell_type": "markdown",
      "source": [
        "#### 2.5 Поверни вектор $x$ на 30°."
      ],
      "metadata": {
        "id": "F5dbVgGr9RCD"
      }
    },
    {
      "cell_type": "markdown",
      "source": [
        "$$\n",
        "M_5 =\n",
        "\\left (\\begin{array}{cc}\n",
        "cos(θ) & -sin(θ)\\\\\n",
        "sin(θ) & cos(θ)\n",
        "\\end{array}\\right)=\n",
        "\\left (\\begin{array}{cc}\n",
        "cos\\frac{\\pi}{6} & -sin\\frac{\\pi}{6}\\\\\n",
        "sin\\frac{\\pi}{6} & cos\\frac{\\pi}{6}\n",
        "\\end{array}\\right)=\n",
        "\\left (\\begin{array}{cc}\n",
        "\\frac{\\sqrt{3}}{2} & -\\frac{1}{2}\\\\\n",
        " \\frac{1}{2} & \\frac{\\sqrt{3}}{2}\n",
        "\\end{array}\\right)\n",
        "\\\\\n",
        "M_5x =\n",
        "\\left (\\begin{array}{cc}\n",
        "\\frac{\\sqrt{3}}{2} & -\\frac{1}{2}\\\\\n",
        " \\frac{1}{2} & \\frac{\\sqrt{3}}{2}\n",
        "\\end{array}\\right)\n",
        "\\left (\\begin{array}{cc}\n",
        "2\\\\\n",
        "1\n",
        "\\end{array}\\right)=\n",
        "\\left (\\begin{array}{cc}\n",
        "\\frac{\\sqrt{3}}{2} \\cdot 2 - \\frac{1}{2} \\cdot 1\\\\\n",
        "\\frac{1}{2} \\cdot 2 + \\frac{\\sqrt{3}}{2} \\cdot 1\n",
        "\\end{array}\\right)=\n",
        "\\left (\\begin{array}{cc}\n",
        "\\frac{\\sqrt{3} + 1}{2}\\\\\n",
        "\\frac{\\sqrt{3} + 2}{2}\n",
        "\\end{array}\\right)\n",
        "$$"
      ],
      "metadata": {
        "id": "ABCk4cPhg2Zp"
      }
    },
    {
      "cell_type": "markdown",
      "source": [
        "#### 2.6 Об'єднай перетворення з кроків 1, 2, 4, 5 в одну матрицю та застосуй її до вектору $x$."
      ],
      "metadata": {
        "id": "nXJQVzee9RTp"
      }
    },
    {
      "cell_type": "markdown",
      "source": [
        "$$\n",
        "M_6 = M_5 \\cdot M_4 \\cdot M_2 \\cdot M_1 =\n",
        "\\left (\\begin{array}{cc}\n",
        "\\frac{\\sqrt{3}}{2} & -\\frac{1}{2}\\\\\n",
        " \\frac{1}{2} & \\frac{\\sqrt{3}}{2}\n",
        "\\end{array}\\right)\\cdot\n",
        "\\left (\\begin{array}{cc}\n",
        "1 & 0\\\\\n",
        "\\sqrt{3} & 1\n",
        "\\end{array}\\right)\\cdot\n",
        "\\left (\\begin{array}{cc}\n",
        "-1 & 0\\\\\n",
        "0 & -1\n",
        "\\end{array}\\right)\\cdot\n",
        "\\left (\\begin{array}{cc}\n",
        "\\frac{1}{2} & 0\\\\\n",
        "0 & 3\n",
        "\\end{array}\\right)=\n",
        "\\left (\\begin{array}{cc}\n",
        "0 & -\\frac{1}{2}\\\\\n",
        "2 & \\frac{\\sqrt{3}}{2}\n",
        "\\end{array}\\right)\\cdot\n",
        "\\left (\\begin{array}{cc}\n",
        "-1 & 0\\\\\n",
        "0 & -1\n",
        "\\end{array}\\right)\\cdot\n",
        "\\left (\\begin{array}{cc}\n",
        "\\frac{1}{2} & 0\\\\\n",
        "0 & 3\n",
        "\\end{array}\\right)=\n",
        "\\left (\\begin{array}{cc}\n",
        "0 & \\frac{1}{2}\\\\\n",
        "-2 & -\\frac{\\sqrt{3}}{2}\n",
        "\\end{array}\\right)\\cdot\n",
        "\\left (\\begin{array}{cc}\n",
        "\\frac{1}{2} & 0\\\\\n",
        "0 & 3\n",
        "\\end{array}\\right)=\n",
        "\\left (\\begin{array}{cc}\n",
        "0 & \\frac{3}{2}\\\\\n",
        "-1 & -\\frac{3\\sqrt{3}}{2}\n",
        "\\end{array}\\right)\n",
        "$$"
      ],
      "metadata": {
        "id": "NzEYWaaZHUGm"
      }
    },
    {
      "cell_type": "markdown",
      "source": [
        "$$\n",
        "M_6 =\n",
        "\\left (\\begin{array}{cc}\n",
        "0 & \\frac{3}{2}\\\\\n",
        "-1 & -\\frac{3\\sqrt{3}}{2}\n",
        "\\end{array}\\right)\n",
        "\\\\\n",
        "M_6x =\n",
        "\\left (\\begin{array}{cc}\n",
        "0 & \\frac{3}{2}\\\\\n",
        "-1 & -\\frac{3\\sqrt{3}}{2}\n",
        "\\end{array}\\right)\\cdot\n",
        "\\left (\\begin{array}{cc}\n",
        "2\\\\\n",
        "1\n",
        "\\end{array}\\right)=\n",
        "\\left (\\begin{array}{cc}\n",
        "0 \\cdot 2 + \\frac{3}{2} \\cdot 1\\\\\n",
        "-1 \\cdot 2 + -\\frac{3\\sqrt{3}}{2} \\cdot 1\\\\\n",
        "\\end{array}\\right)\n",
        "= \\left (\\begin{array}{cc}\n",
        " \\frac{3}{2}\\\\\n",
        "-2  -\\frac{3\\sqrt{3}}{2}\n",
        "\\end{array}\\right)\n",
        "$$"
      ],
      "metadata": {
        "id": "483K8PxWY0Na"
      }
    },
    {
      "cell_type": "code",
      "source": [],
      "metadata": {
        "id": "krE4_MLkCchf"
      },
      "execution_count": null,
      "outputs": []
    },
    {
      "cell_type": "markdown",
      "source": [
        "# Завдання 2 (Альтернативне)"
      ],
      "metadata": {
        "id": "4Hskh6fFb89N"
      }
    },
    {
      "cell_type": "code",
      "source": [
        "import cv2 as cv\n",
        "import urllib\n",
        "import numpy as np\n",
        "from google.colab.patches import cv2_imshow as cv_imshow\n",
        "\n",
        "# Read an image\n",
        "def read_image_by_url(url):\n",
        "    req = urllib.request.urlopen(url)\n",
        "    arr = np.asarray(bytearray(req.read()), dtype=np.uint8)\n",
        "    img = cv.imdecode(arr, -1)\n",
        "    return img\n",
        "\n",
        "url = ''\n",
        "\n",
        "img = read_image_by_url(url)"
      ],
      "metadata": {
        "id": "T9X-m9XvdlPK"
      },
      "execution_count": null,
      "outputs": []
    },
    {
      "cell_type": "code",
      "source": [
        "cv_imshow(img)"
      ],
      "metadata": {
        "id": "3oDsfgd25Rx7"
      },
      "execution_count": null,
      "outputs": []
    },
    {
      "cell_type": "code",
      "source": [],
      "metadata": {
        "id": "XmpNfQZpira8"
      },
      "execution_count": null,
      "outputs": []
    }
  ]
}