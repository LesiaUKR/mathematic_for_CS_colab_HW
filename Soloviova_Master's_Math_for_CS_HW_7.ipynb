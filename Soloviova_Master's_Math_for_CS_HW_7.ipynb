{
  "nbformat": 4,
  "nbformat_minor": 0,
  "metadata": {
    "colab": {
      "provenance": [],
      "collapsed_sections": [
        "CChksUmMAbHT"
      ]
    },
    "kernelspec": {
      "name": "python3",
      "display_name": "Python 3"
    },
    "language_info": {
      "name": "python"
    }
  },
  "cells": [
    {
      "cell_type": "markdown",
      "source": [
        "## Нагадування по Markdown"
      ],
      "metadata": {
        "id": "CChksUmMAbHT"
      }
    },
    {
      "cell_type": "markdown",
      "source": [
        "Надаємо невелике нагадування записів в\n",
        "[Markdown](https://colab.research.google.com/notebooks/markdown_guide.ipynb) (LaTeX):\n",
        "\n",
        "Markdown | Preview\n",
        "--- | ---\n",
        "`**bold text**` | **bold text**\n",
        " \\\\$\\frac{x}{y}\\\\$ | $\\frac{x}{y}$\n",
        " \\\\$p^{x}_{y}\\\\$ | $p^{x}_{y}$\n",
        "\\\\$x \\cdot y\\\\$ | $x \\cdot y$\n",
        "\\\\$\\sqrt{x}\\\\$ | $\\sqrt{x}$\n",
        "\\\\$\\pi\\\\$ | $\\pi$\n",
        "\\\\$\\approx\\\\$ | $\\approx$\n",
        "\n",
        "І ще декілька прикладів:\n",
        "\n",
        "```markdown\n",
        "$y=x^2$\n",
        "\n",
        "$e^{i\\pi} + 1 = 0$\n",
        "\n",
        "$e^x=\\sum_{i=0}^\\infty \\frac{1}{i!}x^i$\n",
        "\n",
        "$\\frac{n!}{k!(n-k)!} = {n \\choose k}$\n",
        "\n",
        "$A_{m,n} =\n",
        " \\begin{pmatrix}\n",
        "  a_{1,1} & a_{1,2} & \\cdots & a_{1,n} \\\\\n",
        "  a_{2,1} & a_{2,2} & \\cdots & a_{2,n} \\\\\n",
        "  \\vdots  & \\vdots  & \\ddots & \\vdots  \\\\\n",
        "  a_{m,1} & a_{m,2} & \\cdots & a_{m,n}\n",
        " \\end{pmatrix}$\n",
        "```\n",
        "\n",
        "$y=x^2$\n",
        "\n",
        "$e^{i\\pi} + 1 = 0$\n",
        "\n",
        "$e^x=\\sum_{i=0}^\\infty \\frac{1}{i!}x^i$\n",
        "\n",
        "$\\frac{n!}{k!(n-k)!} = {n \\choose k}$\n",
        "\n",
        "$A_{m,n} =\n",
        " \\begin{pmatrix}\n",
        "  a_{1,1} & a_{1,2} & \\cdots & a_{1,n} \\\\\n",
        "  a_{2,1} & a_{2,2} & \\cdots & a_{2,n} \\\\\n",
        "  \\vdots  & \\vdots  & \\ddots & \\vdots  \\\\\n",
        "  a_{m,1} & a_{m,2} & \\cdots & a_{m,n}\n",
        " \\end{pmatrix}$\n",
        "\n",
        " ---"
      ],
      "metadata": {
        "id": "ufhW5oZEzsvI"
      }
    },
    {
      "cell_type": "markdown",
      "source": [
        "## Завдання 1\n",
        "\n",
        "В партії з 50 деталей 5 нестандартних. Визнач ймовірність того, що серед обраних навмання для перевірки шести деталей дві виявляться нестандартними. Розв'яжи аналітично.\n",
        "\n",
        "Примітка: в даній задачі не потрібно рахувати конкретне число.\n",
        "\n",
        "---\n",
        "Розв'язання:\n",
        "\n",
        "Для визначення ймовірності того, що серед обраних навмання для перевірки шести деталей дві виявляться нестандартними, можна використати формулу комбінаторики для гіпергеометричного розподілу.\n"
      ],
      "metadata": {
        "id": "xXSaXssaSwlH"
      }
    },
    {
      "cell_type": "markdown",
      "source": [
        "## 1. Визначимо змінні:\n",
        "\n",
        "N - загальна кількість деталей у партії: N=50 \\\n",
        "K - кількість нестандартних деталей у партії: K=5 \\\n",
        "n - кількість обраних для перевірки деталей: n=6 \\\n",
        "k - кількість нестандартних деталей серед обраних для перевірки: k=2."
      ],
      "metadata": {
        "id": "xqnk-2usYwBM"
      }
    },
    {
      "cell_type": "markdown",
      "source": [
        "## 2. Використаємо формулу гіпергеометричного розподілу:\n",
        "\n",
        "Ймовірність того, що серед обраних n деталей буде рівно\n",
        "k нестандартних деталей, обчислюється за формулою:\n",
        "\n",
        "$$\n",
        "\\text{P(X=k)} = \\frac{\\left(\\frac{K}{k}\\right)\\ldotp \\left(\\frac{N-K}{n-k}\\right)}{\\left(\\frac{N}{n}\\right)}\n",
        "$$\n",
        "\n",
        "Де:\n",
        "\n",
        "\n",
        "\n",
        "*  $(\\frac{K}{k})$ - кількість способів обрати k нестандартних деталей з K\n",
        "\n",
        "\n",
        "*  $(\\frac{N-K}{n-k})$ -  кількість способів обрати n-k стандартних деталей з N-K стандартних деталей\n",
        "\n",
        "\n",
        "*   $(\\frac{N}{n})$ - загальна кількість способів обрати n деталей з N деталей\n",
        "\n",
        "\n",
        "\n",
        "\n",
        "\n"
      ],
      "metadata": {
        "id": "ezKjyFjRZkpT"
      }
    },
    {
      "cell_type": "markdown",
      "source": [
        "## 3. Підставимо значення у формулу:\n",
        "\n",
        "$$\n",
        "\\text{P(X=2)} = \\frac{\\left(\\frac{5}{2}\\right)\\ldotp \\left(\\frac{50-5}{6-2}\\right)}{\\left(\\frac{50}{6}\\right)}\n",
        "$$\n",
        "\n",
        "Де:\n",
        "\n",
        "\n",
        "\n",
        "*  $(\\frac{5}{2})$ - кількість способів обрати 2 нестандартних деталі з 5\n",
        "\n",
        "\n",
        "*  $(\\frac{45}{4})$ -  кількість способів обрати 4 стандартних деталі з 45 стандартних деталей\n",
        "\n",
        "\n",
        "*   $(\\frac{50}{6})$ - загальна кількість способів обрати 6 деталей з 50 деталей"
      ],
      "metadata": {
        "id": "vEchT0PujXGH"
      }
    },
    {
      "cell_type": "markdown",
      "source": [
        "Таким чином, вираз для ймовірності того, що серед обраних для перевірки шести деталей дві виявляться нестандартними, аналітично виглядає наступним чином:\n",
        "\n",
        "$$\n",
        "\\text{P(X=2)} = \\frac{\\left(\\frac{5}{2}\\right)\\ldotp \\left(\\frac{45}{4}\\right)}{\\left(\\frac{50}{6}\\right)}\n",
        "$$"
      ],
      "metadata": {
        "id": "Hu1wVP4llQPf"
      }
    },
    {
      "cell_type": "markdown",
      "source": [
        "Цей вираз можна обчислити для отримання конкретного числового значення ймовірності.\n",
        "\n",
        "$\n",
        "P = \\frac{(\\frac{5}{2}) \\cdot (\\frac{45}{4})}{(\\frac{50}{6})} = \\frac{1489950}{15890700} = \\frac{1}{10.67} ≈ 0.0937\n",
        "$"
      ],
      "metadata": {
        "id": "p9j_eCOYlZVH"
      }
    },
    {
      "cell_type": "markdown",
      "source": [
        "Ймовірність того, що серед обраних навмання для перевірки 6 деталей 2 виявляться нестандартними, становить приблизно 9.38%"
      ],
      "metadata": {
        "id": "4YVEYPUplmNK"
      }
    },
    {
      "cell_type": "markdown",
      "source": [
        "## Завдання 2\n",
        "\n",
        "Із 15 рейсів, що виконуються з аеропорту протягом доби, 60 % рейсів виконуються на власному літаковому парку. Знайди ймовірність того, що з вибраних навмання 5 рейсів рівно 3 виконуються на власному парку. Виріши аналітично.\n",
        "\n",
        "---\n",
        "Розв'язання:\n",
        "\n",
        "## 1. Визначимо змінні:\n",
        "\n",
        "N - загальна кількість рейсів 𝑁 = 15 \\\\\n",
        "K - кількість рейсів на власному літаковому парку  K=15×0.6=9 \\\n",
        "n - кількість вибраних рейсів 𝑛 = 5 \\\n",
        "x - кількість рейсів на власному літаковому парку серед вибраних 𝑥 = 3\n",
        "\n"
      ],
      "metadata": {
        "id": "5Cw_lCtQwZwr"
      }
    },
    {
      "cell_type": "markdown",
      "source": [
        "## 2. Використаємо формулу гіпергеометричного розподілу:\n",
        "\n",
        "$$\n",
        "\\text{P(X=k)} = \\frac{\\left(\\frac{K}{k}\\right)\\ldotp \\left(\\frac{N-K}{n-k}\\right)}{\\left(\\frac{N}{n}\\right)}\n",
        "$$"
      ],
      "metadata": {
        "id": "iMJYcyTpMjHw"
      }
    },
    {
      "cell_type": "markdown",
      "source": [
        "Підставимо значення у формулу:\n",
        "\n",
        "$\n",
        "P(X=3) = \\frac{(\\frac{9}{3}) \\cdot (\\frac{6}{2})}{(\\frac{15}{5})}\\\n",
        "$\n",
        "\n"
      ],
      "metadata": {
        "id": "aPBuN5prPhtP"
      }
    },
    {
      "cell_type": "markdown",
      "source": [
        "## 3. Обчислимо комбінаторні коефіцієнти:\n",
        "Кількість способів вибрати 3 рейси з 9:\n",
        "\n",
        "$\n",
        "(\\frac{9}{3}) = \\frac{9!}{3!(9-3)!} = \\frac{9!}{3! \\cdot 6!} = \\frac{95 \\cdot 8 \\cdot 7}{3 \\cdot 2 \\cdot 1} = 84\n",
        "$\n",
        "\\\n",
        "\\\n",
        "Кількість способів вибрати 2 рейси з 6:\\\n",
        "$\n",
        "(\\frac{6}{2}) = \\frac{6!}{2!(6-2)!} = \\frac{6!}{2! \\cdot 4!} = \\frac{6 \\cdot 5}{2 \\cdot 1} = 15\n",
        "$\n",
        "\\\n",
        "\\\n",
        "Загальна кількість способів вибрати 5 рейсів з 15:\\\n",
        "$\n",
        "(\\frac{15}{5}) = \\frac{15!}{5!(15-5)!} = \\frac{15!}{5! \\cdot 5!} = \\frac{15 \\cdot 14 \\cdot 12 \\cdot 11}{5 \\cdot 4 \\cdot 3 \\cdot 2 \\cdot 1} = 3003\n",
        "$\n",
        "\n"
      ],
      "metadata": {
        "id": "sOSzw6ULQfvm"
      }
    },
    {
      "cell_type": "markdown",
      "source": [
        "## 4. Обчислимо ймовірність:\n",
        "$𝑃(𝑋=3)=\\frac {84 ⋅ 15}{3003} =\n",
        "\\frac {1260}{3003}≈ 0.4195$\n",
        "\n",
        "Таким чином, ймовірність того, що серед вибраних 5 рейсів 3 виконуються на власному літаковому парку, дорівнює приблизно 0.4195 або 41.95%."
      ],
      "metadata": {
        "id": "levsxfClQm6w"
      }
    },
    {
      "cell_type": "markdown",
      "source": [
        "## Завдання 3\n",
        "\n",
        "Підкидають три гральні кубики. Що ймовірніше: отримати в сумі очок, що випали, 11 або 12?  \n",
        "Розв'яжи програмно, згенерувавши всі можливі комбінації.\n",
        "\n",
        "---\n",
        "Розв'язання:"
      ],
      "metadata": {
        "id": "SL119N5bwqxc"
      }
    },
    {
      "cell_type": "code",
      "source": [
        "import itertools\n",
        "\n",
        "# Генеруємо всі можливі комбінації випадіння трьох кубиків\n",
        "combinations = list(itertools.product(range(1, 7), repeat=3))\n",
        "\n",
        "# Підраховуємо кількість комбінацій, що дають суму 11 або 12\n",
        "count_11 = sum(1 for combo in combinations if sum(combo) == 11)\n",
        "count_12 = sum(1 for combo in combinations if sum(combo) == 12)\n",
        "\n",
        "# Виводимо результати\n",
        "print(f\"Ймовірність отримати суму 11: {count_11 / len(combinations)}\")\n",
        "print(f\"Ймовірність отримати суму 12: {count_12 / len(combinations)}\")\n"
      ],
      "metadata": {
        "id": "xkvYYtY3wZAR",
        "colab": {
          "base_uri": "https://localhost:8080/"
        },
        "outputId": "438eb0a2-5329-4bcd-f15a-650bb505ffbb"
      },
      "execution_count": 1,
      "outputs": [
        {
          "output_type": "stream",
          "name": "stdout",
          "text": [
            "Ймовірність отримати суму 11: 0.125\n",
            "Ймовірність отримати суму 12: 0.11574074074074074\n"
          ]
        }
      ]
    },
    {
      "cell_type": "markdown",
      "source": [
        "## Завдання 4\n",
        "\n",
        "Схема електричного ланцюга наведена на рисунку. Через\n",
        "ділянку схеми, що вийшла з ладу, струм не проходить. Нехай подія\n",
        "$A_i$ – вихід з ладу елемента $i$ , $i = \\overline{1,6}$\n",
        ". Вирази події $A$ й $\\overline{A}$\n",
        "через події $A_i$, якщо $A$ – вихід з ладу всієї схеми. Розв'яжи аналітично.\n",
        "\n",
        "Примітка: виразити необхідно через події, а не їх ймовірності.\n",
        "\n"
      ],
      "metadata": {
        "id": "lxBShyhaBZO_"
      }
    },
    {
      "cell_type": "markdown",
      "source": [
        "![image.png](data:image/png;base64,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)"
      ],
      "metadata": {
        "id": "vWJXVmWCBZG5"
      }
    },
    {
      "cell_type": "markdown",
      "source": [
        "---\n",
        "## Розв'язання:\n",
        "\n",
        "Для того, щоб аналітично виразити події A (вихід з ладу всієї схеми) та $\\overline{A}$ (справність всієї схеми) через події $A_i$(вихід з ладу елемента\n",
        "i), нам потрібно проаналізувати структуру схеми.\n",
        "\n",
        "Схема електричного ланцюга являє собою 3 послідовно з'єднані логічні резистори $R_{1}$, $R_{2}$, $R_{3}$.\\\n",
        "\n",
        "### Розглянемо кожен резистор окремо:\n",
        "\n",
        "- Резистор $R_{1}$: складається з двох паралельно підключених резисторів $r_{1}$ і $r_{2}$. Паралельне з'єднання виходить з ладу, якщо обидва резистори виходять з ладу:\n",
        "\\\n",
        "$A_{R1} = A_{1} \\cap A_{2}$\n",
        "\n",
        "- Резистор $R_{2}$: складається з двох послідовних резисторів $r_{3}$ і $r_{4}$, які підключені паралельно резистору $r_{5}$. Послідовне з'єднання виходить з ладу, якщо хоча б один резистор виходить з ладу:\n",
        "\\\n",
        "$A_{posl} = A_{3} \\cup A_{4}$\n",
        "\\\n",
        "Це з'єднання підключене паралельно резистору $r_{5}$, отже, паралельне з'єднання виходить з ладу, якщо обидва шляхи виходять з ладу:\n",
        "\\\n",
        "$A_{R2} = (A_{3} \\cup A_{4}) \\cap A_{5} $\n",
        "\n",
        "- Резистор $R_{3}$: є резистором $r_{6}$:\\\n",
        "$A_{R3} = A_{6}$\n",
        "\n"
      ],
      "metadata": {
        "id": "lPwmT837BY6V"
      }
    },
    {
      "cell_type": "markdown",
      "source": [
        "### Вихід з ладу всієї схеми\n",
        "\n",
        "Загальна схема складається з трьох послідовно з'єднаних резисторів\n",
        "$R_1, R_2, R_3$. Послідовне з'єднання виходить з ладу, якщо хоча б один з резисторів виходить з ладу:\n",
        "\n",
        "$$A = A_{R1} \\cup A_{R2} \\cup A_{R3} $$\n",
        "\n",
        "Підставляємо вирази для $A_{R1}, A_{R2}, A_{R3}$:\n",
        "$$A = (A_{1} \\cap A_{2}) \\cup ((A_{3} \\cup A_{4}) \\cap A_{5}) \\cup A_{6}$$"
      ],
      "metadata": {
        "id": "snwasx4zn3gC"
      }
    },
    {
      "cell_type": "markdown",
      "source": [
        "### Справність всієї схеми\n",
        "\n",
        "Схема буде справна, якщо всі три резистори $R_1, R_2, R_3$ будуть справними. Тобто, схема буде справна, якщо всі три частини схеми будуть справними:\n",
        "\n",
        "$$\\overline{A} = \\overline{A}_{R1}\\cap \\overline{A}_{R2}\\cap \\overline{A}_{R3}$$"
      ],
      "metadata": {
        "id": "jTX-i7XYpLAh"
      }
    },
    {
      "cell_type": "markdown",
      "source": [
        "Підставляємо вирази для справності кожної частини схеми:\n",
        "\n",
        "$$\\overline{A}_{R1} = \\overline{A_{1}\\cap{A}_{2}} = \\overline{A_{1}}\\cup\\overline{A_{2}}$$"
      ],
      "metadata": {
        "id": "cq5gpkWTqH6V"
      }
    },
    {
      "cell_type": "markdown",
      "source": [
        "$$\\overline{A}_{R2} = \\overline{(A_{3}\\cup{A}_{4})\\cap A_5} = \\overline{A_3\\cup{A}_4}\\cup \\overline{A_5}=(\\overline{A_3} \\cap \\overline{A_4)} \\cup \\overline{A_5}$$"
      ],
      "metadata": {
        "id": "0ZJ6vQ7FrD8q"
      }
    },
    {
      "cell_type": "markdown",
      "source": [
        "$$\\overline{A_{R3}} = \\overline{A_6}$$\n",
        "\n",
        "Отже, справність всієї схеми:\n",
        "\n",
        "$$\\overline A = \\overline{A_{1}}\\cup\\overline{A_{2}} \\cap ((\\overline{A_3} \\cap \\overline{A_4)} \\cup \\overline{A_5}) \\cap \\overline{A_6}$$"
      ],
      "metadata": {
        "id": "Ft-u0Ho7tAFS"
      }
    },
    {
      "cell_type": "markdown",
      "source": [
        "### Висновок\n",
        "Таким чином, вихід з ладу всієї схеми A і справність всієї схеми $\\overline{A}$\n",
        " виражаються через події $A_i$ наступним чином:\n",
        "\n",
        " \\\n",
        "\n",
        " $$A = (A_{1} \\cap A_{2}) \\cup ((A_{3} \\cup A_{4}) \\cap A_{5}) \\cup A_{6}$$\n",
        "\\\n",
        "\\\n",
        " $$\\overline A = \\overline{A_{1}}\\cup\\overline{A_{2}} \\cap ((\\overline{A_3} \\cap \\overline{A_4)} \\cup \\overline{A_5}) \\cap \\overline{A_6}$$"
      ],
      "metadata": {
        "id": "eiZ1iPj9uOJu"
      }
    },
    {
      "cell_type": "markdown",
      "source": [
        "## Завдання 5\n",
        "\n",
        "На площині накреслені дві концентричні окружності (мають спільний центр),\n",
        "радіуси яких 5 і 10 см відповідно. Знайди ймовірність того, що точка, кинута навмання у велике коло, потрапить також у кільце, утворене побудованими окружностями.\n",
        "\n",
        "Розв'яжи аналітично.\n",
        "\n",
        "---\n",
        "### Розв'язання:\n",
        "\n",
        "Щоб знайти ймовірність того, що точка, кинута навмання у велике коло, потрапить у кільце, утворене двома концентричними колами, спочатку розглянемо площі цих геометричних фігур."
      ],
      "metadata": {
        "id": "qBhWCJHsOyFu"
      }
    },
    {
      "cell_type": "markdown",
      "source": [
        "### Площа великого кола\n",
        "Радіус великого кола R дорівнює 10 см. Площа великого кола\n",
        "$S_В$ обчислюється за формулою:\n",
        "\n",
        "$S_В = πR^2 = π(10)^2 = 100π$ $см^2$\n",
        "\n",
        "### Площа малого кола\n",
        "\n",
        "Радіус малого кола r дорівнює 5 см. Площа малого кола\n",
        "$𝑆_М$ обчислюється за формулою:\n",
        "\n",
        "$S_М = πR^2 = π(5)^2 = 25π$ $см^2$"
      ],
      "metadata": {
        "id": "RZdvtI4gxBqb"
      }
    },
    {
      "cell_type": "markdown",
      "source": [
        "### Площа кільця\n",
        "Кільце утворене різницею площ великого і малого кола. Тобто площа кільця\n",
        "$𝑆_К$ обчислюється за формулою:\n",
        "\n",
        "$S_К = S_В - S_М = 100π - 25π = 75π$ $см^2$"
      ],
      "metadata": {
        "id": "WmTfnFaUyByL"
      }
    },
    {
      "cell_type": "markdown",
      "source": [
        "### Ймовірність попадання точки у кільце\n",
        "Ймовірність того, що точка, кинута навмання у велике коло, потрапить у кільце, дорівнює відношенню площі кільця до площі великого кола:\n",
        "\n",
        "$P = \\frac{S_К}{S_В} = \\frac{75π}{100π} = \\frac{75}{100} = 0.75$\n"
      ],
      "metadata": {
        "id": "DdoWYjEFykrm"
      }
    },
    {
      "cell_type": "markdown",
      "source": [
        "### Висновок\n",
        "Отже, ймовірність того, що точка, кинута навмання у велике коло, потрапить у кільце, утворене двома концентричними колами, дорівнює 0.75 або 75%."
      ],
      "metadata": {
        "id": "ZMSzxH4jy7YY"
      }
    },
    {
      "cell_type": "markdown",
      "source": [
        "## Завдання 6\n",
        "Урна містить одну кулю, про яку відомо, що вона або біла, або чорна з однаковими ймовірностями. В урну кладуть білу кулю і потім навмання виймають одну кулю. Вона виявилася білою. Яка ймовірність того, що куля, яка залишилася, є білою? Розв'яжи аналітично  \n",
        "\n",
        "---\n",
        "### Розв'язання:\n",
        "Щоб знайти ймовірність того, що куля, яка залишилася в урні, є білою, використаємо теорему Байєса.\n",
        "\n",
        "Позначимо:\n",
        "- $B$ - подія, що початкова куля в урні є білою.\n",
        "- $C$ - подія, що початкова куля в урні є чорною.\n",
        "- $W_1$ - подія, що вийнята куля є білою.\n",
        "\n",
        "Спочатку запишемо ймовірності:\n",
        "\n",
        "\n",
        "1. Визначимо P(B) і P(C):\\\n",
        "\\\n",
        "$P(B) = P(C) = \\frac{1}{2}$\n",
        "\n",
        "оскільки початкова куля біла або чорна з однаковими ймовірностями\n",
        "\n"
      ],
      "metadata": {
        "id": "5fEt2pndPj66"
      }
    },
    {
      "cell_type": "markdown",
      "source": [
        "2. Якщо початкова куля біла, то в урні дві білі кулі після додавання білої кулі, тому:\n",
        "\\\n",
        "$P(W_1|B) = 1$\n"
      ],
      "metadata": {
        "id": "d-cH-XiL4VDK"
      }
    },
    {
      "cell_type": "markdown",
      "source": [
        "3. Якщо початкова куля чорна, то в урні одна біла і одна чорна куля після додавання білої кулі, тому $P(W_1|C) = \\frac{1}{2}$\n",
        "\n"
      ],
      "metadata": {
        "id": "MF4XLlGu4ZM0"
      }
    },
    {
      "cell_type": "markdown",
      "source": [
        "4. Використаємо теорему Байєса, щоб знайти ймовірність того, що початкова куля була біла, за умови, що витягнута куля біла:\n",
        "\n",
        "$P(B|W_1) = \\frac{P(W_1|B) \\cdot P(B)}{P(W_1)}$\n",
        "\n",
        "Для цього знайдемо $P(W_1)$:\n",
        "\n",
        "$P(W_1) = P(W_1|B) \\cdot P(B)+ P(W_1|C)\\cdot P(C) = 1 \\cdot 0.5 + 0.5 \\cdot 0.5 = 0.75 $\n",
        "\n",
        "\n"
      ],
      "metadata": {
        "id": "RVLy70kE4ex9"
      }
    },
    {
      "cell_type": "markdown",
      "source": [
        "5. Тепер підставимо знайдені значення у формулу Байєса:\\\n",
        "\\\n",
        "$P(B|W_1) = \\frac{1 \\cdot 0.5}{0.75} = \\frac{0.5}{0.75} = \\frac{2}{3}$\n",
        "\n",
        "Отже, ймовірність того, що початкова куля була біла, за умови, що витягнута куля біла, дорівнює $\\frac{2}{3}$\n",
        "\n"
      ],
      "metadata": {
        "id": "t6ZCFv1z4jMS"
      }
    },
    {
      "cell_type": "markdown",
      "source": [
        "Тепер знайдемо ймовірність того, що куля, яка залишилася, є білою. Якщо початкова куля була біла (що має ймовірність $\\frac{2}{3}$), то залишиться одна біла куля з ймовірністю 1. Якщо початкова куля була чорна (що має ймовірність $\\frac{1}{3}$ ), то залишиться біла куля (яка була додана) з ймовірністю 1.\n",
        "\n",
        "Отже:\n",
        "\n",
        "$$P(куля, що залишилася, є білою) = \\frac{2}{3} \\cdot 1 + \\frac{1}{3}\\cdot 1 = \\frac{2}{3} + \\frac{1}{3} = 1$$\n",
        "\n",
        "Отже, ймовірність того, що куля, яка залишилася, є білою, дорівнює 1."
      ],
      "metadata": {
        "id": "xf36j1kZ4nk2"
      }
    },
    {
      "cell_type": "markdown",
      "source": [
        "## Завдання 7. Випадкове блукання\n",
        "Ціна акцій компанії в кожен момент часу може з рівною ймовірністю збільшитись на 2 або зменшитись на 1. В початковий момент часу $t=0$ ціна рівна 0. Визнач середню ціну акції через 3 одиниці часу ($t=3$).  \n",
        "а) Виріши аналітично.\n",
        "\n",
        "б) Напиши симуляцію данного процесу. Порахуй середнє значення та намалюй гістограму ціни для 10, 100, 1000 та 10000 симуляцій.\n",
        "\n",
        "---\n"
      ],
      "metadata": {
        "id": "ACIVtHYWi9W1"
      }
    },
    {
      "cell_type": "markdown",
      "source": [
        "### Розв'язання:\n",
        "\n",
        "Розглянемо процес на t=3 одиниці часу. Позначимо $X_t$ як ціну акцій у момент часу\n",
        "t.\n",
        "\n",
        "Для кожного кроку $t$:\n",
        "\n",
        "$X_{t+1} = \\left\\{\\begin{array}{left} X_{t} + 2 & ймовірність & \\frac{1}{2} \\\\ X_{t} - 1 & ймовірність & \\frac{1}{2} \\\\  \\end{array}\\right.$\n",
        "\n",
        "Нам потрібно знайти математичне сподівання $E\\left[X_{3}\\right]$.\n",
        "\n",
        "Математичне сподівання зміни ціни за один крок:\n",
        "1. В початковий момент часу t=0, $X_{0} = 0$\n"
      ],
      "metadata": {
        "id": "VUQaR6xk5r9p"
      }
    },
    {
      "cell_type": "markdown",
      "source": [
        "2. Математичне сподівання $E\\left[X_{t+1}\\right]$ можна обчислити через $E\\left[X_{t}\\right]$:\n",
        "\n",
        "$E\\left[X_{t+1}\\right] = \\frac{1}{2}(X_{t} + 2) + \\frac{1}{2}(X_{t} - 1) = \\frac{1}{2}X_{t} + 1 + \\frac{1}{2}X_{t} - \\frac{1}{2} = X_{t} + \\frac{1}{2}$\n",
        "\n",
        "Таким чином, математичне сподівання на кожному кроці збільшується на $\\frac{1}{2}$\n",
        "\n"
      ],
      "metadata": {
        "id": "hybGn7WM6sa-"
      }
    },
    {
      "cell_type": "markdown",
      "source": [
        "3. Знайдемо $E\\left[X_{3}\\right]$:\n",
        "\n",
        "$E\\left[X_{1}\\right] = E\\left[X_{0}\\right] + \\frac{1}{2} = 0 + \\frac{1}{2} = \\frac{1}{2}$\n",
        "\n",
        "$E\\left[X_{2}\\right] = E\\left[X_{1}\\right] + \\frac{1}{2} = \\frac{1}{2} + \\frac{1}{2} = 1$\n",
        "\n",
        "$E\\left[X_{3}\\right] = E\\left[X_{2}\\right] + \\frac{1}{2} = 1 + \\frac{1}{2} = \\frac{3}{2}$\n",
        "\n",
        "Тобто, середня ціна акції через 3 одиниці часу дорівнює: $\\frac{3}{2}$"
      ],
      "metadata": {
        "id": "XLUT9R6P7QcN"
      }
    },
    {
      "cell_type": "code",
      "source": [
        "import numpy as np\n",
        "import matplotlib.pyplot as plt\n",
        "\n",
        "# Функція для обчислення ціни акцій в момент часу t\n",
        "def stock_price_at_time(t):\n",
        "    price = 0  # Початкова ціна акції\n",
        "    for _ in range(t):  # Ітеруємо t разів\n",
        "        change = np.random.choice([2, -1])  # Випадковий вибір зміни: +2 або -1\n",
        "        price += change  # Додаємо зміну до поточної ціни\n",
        "    return price  # Повертаємо кінцеву ціну\n",
        "\n",
        "# Функція для симуляції процесу n разів і повернення результатів\n",
        "def simulate_n_times(n, t):\n",
        "    prices = [stock_price_at_time(t) for _ in range(n)]  # Генеруємо список цін для n симуляцій\n",
        "    return prices\n",
        "\n",
        "# Кількість симуляцій для кожного випадку\n",
        "for n in [10, 100, 1000, 10000]:\n",
        "    prices = simulate_n_times(n, 3)  # Симулюємо процес для n разів при t = 3\n",
        "    mean_price = np.mean(prices)  # Обчислюємо середню ціну\n",
        "\n",
        "    plt.figure(figsize=(10, 6))  # Створюємо нову фігуру для графіка\n",
        "    plt.hist(prices, bins=20, edgecolor='k', alpha=0.7)  # Будуємо гістограму цін\n",
        "    plt.title(f'Гістограма цін акцій при t=3 для {n} симуляцій\\nСередня ціна = {mean_price:.2f}')  # Заголовок графіка\n",
        "    plt.xlabel('Ціна акції')  # Підпис осі X\n",
        "    plt.ylabel('Частота')  # Підпис осі Y\n",
        "    plt.grid(True)  # Відображаємо сітку на графіку\n",
        "    plt.show()  # Відображаємо графік\n"
      ],
      "metadata": {
        "colab": {
          "base_uri": "https://localhost:8080/",
          "height": 1000
        },
        "id": "tpjbFbtb_KXl",
        "outputId": "adbe4361-5ac3-46a5-b8c1-0ed403489956"
      },
      "execution_count": 8,
      "outputs": [
        {
          "output_type": "display_data",
          "data": {
            "text/plain": [
              "<Figure size 1000x600 with 1 Axes>"
            ],
            "image/png": "[encoded data removed]"
          },
          "metadata": {}
        },
        {
          "output_type": "display_data",
          "data": {
            "text/plain": [
              "<Figure size 1000x600 with 1 Axes>"
            ],
            "image/png": "[encoded data removed]"
          },
          "metadata": {}
        },
        {
          "output_type": "display_data",
          "data": {
            "text/plain": [
              "<Figure size 1000x600 with 1 Axes>"
            ],
            "image/png": "[encoded data removed]"
          },
          "metadata": {}
        },
        {
          "output_type": "display_data",
          "data": {
            "text/plain": [
              "<Figure size 1000x600 with 1 Axes>"
            ],
            "image/png": "[encoded data removed]"
          },
          "metadata": {}
        }
      ]
    }
  ]
}