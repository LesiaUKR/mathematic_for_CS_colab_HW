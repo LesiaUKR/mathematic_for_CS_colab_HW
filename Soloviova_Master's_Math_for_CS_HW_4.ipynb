{
  "nbformat": 4,
  "nbformat_minor": 0,
  "metadata": {
    "colab": {
      "provenance": []
    },
    "kernelspec": {
      "name": "python3",
      "display_name": "Python 3"
    },
    "language_info": {
      "name": "python"
    }
  },
  "cells": [
    {
      "cell_type": "markdown",
      "source": [
        "Вам можуть знадобитись такі символи:\n",
        "\n",
        "\n",
        "Символ | Код\n",
        "--- | ---\n",
        "$\\wedge$ | \\\\$\\wedge\\\\$\n",
        "$\\vee$ | \\\\$\\vee\\\\$\n",
        "$\\neg$ | \\\\$\\neg\\\\$\n",
        "$\\rightarrow$ | \\\\$\\rightarrow\\\\$\n",
        "$\\oplus$ | \\\\$\\oplus\\\\$\n",
        "$\\equiv$ | \\\\$\\equiv\\\\$\n",
        "$\\Leftrightarrow$ | \\\\$\\Leftrightarrow\\\\$"
      ],
      "metadata": {
        "id": "xJ6EpMRR0Ko1"
      }
    },
    {
      "cell_type": "markdown",
      "source": [
        "## Завдання 1\n",
        "Запишіть наступні висловлювання у математичній формі та складіть для них таблиці істиності:"
      ],
      "metadata": {
        "id": "yKUL8_WRy1WO"
      }
    },
    {
      "cell_type": "markdown",
      "source": [
        "a) “Морті прийде на вечірку (A) тоді й тільки тоді, коли Джесіка прийде на вечірку(B), а Рік не прийде(C)”.\n",
        "\n",
        "A - Морті прийде на вечірку\\\n",
        "B - Джесіка прийде на вечірку\\\n",
        "C - Рік не прийде на вечірку\n",
        "\n",
        "$X = $ А $\\Leftrightarrow$ ( B \t$\\wedge$ $\\neg$ C)\n",
        "\n",
        "$$\n",
        "\\begin{array} {|r|r|}\\hline\n",
        "A & B & C & X \\\\ \\hline\n",
        "1 & 1 & 1 & 0 \\\\ \\hline\n",
        "0 & 1 & 1 & 1 \\\\ \\hline\n",
        "1 & 0 & 1 & 0 \\\\ \\hline\n",
        "0 & 0 & 1 & 1 \\\\ \\hline\n",
        "1 & 1 & 0 & 1 \\\\ \\hline\n",
        "0 & 1 & 0 & 0 \\\\ \\hline\n",
        "1 & 0 & 0 & 0 \\\\ \\hline\n",
        "0 & 0 & 0 & 1 \\\\ \\hline\n",
        "\\end{array}\n",
        "$$"
      ],
      "metadata": {
        "id": "O0k_O_SOy2eP"
      }
    },
    {
      "cell_type": "markdown",
      "source": [
        "b) “Якщо ми успішно виконаємо домашнє завдання з математичної логіки (A), то ми отримаємо заліковий бал (B) або візьмемо участь у науковому семінарі (C), водночас якщо ми візьмемо участь у науковому семінарі і отримаємо заліковий бал, то достроково складемо іспит з математичної логіки (D)”.\n",
        "\n",
        "A - ми успішно виконаємо домашнє завдання з математичної логіки\\\n",
        "B - ми отримаємо заліковий бал\\\n",
        "C - ми візьмемо участь у науковому семінарі\\\n",
        "D - достроково складемо іспит з математичної логіки\n",
        "\n",
        "$X = $(A \t$\\rightarrow$(B $\\vee$ C)) $\\wedge$ ((C \t$\\wedge$ B) $\\rightarrow$ D)\n",
        "\n",
        "$$\n",
        "\\begin{array} {|r|r|}\\hline\n",
        "A & B & C & D & X \\\\ \\hline\n",
        "1 & 1 & 1 & 1 & 1 \\\\ \\hline\n",
        "0 & 1 & 1 & 1 & 1 \\\\ \\hline\n",
        "1 & 0 & 1 & 1 & 1 \\\\ \\hline\n",
        "0 & 0 & 1 & 1 & 1 \\\\ \\hline\n",
        "1 & 1 & 0 & 1 & 1 \\\\ \\hline\n",
        "0 & 1 & 0 & 1 & 1 \\\\ \\hline\n",
        "1 & 0 & 0 & 1 & 0 \\\\ \\hline\n",
        "0 & 0 & 0 & 1 & 1 \\\\ \\hline\n",
        "1 & 1 & 1 & 0 & 0 \\\\ \\hline\n",
        "0 & 1 & 1 & 0 & 0 \\\\ \\hline\n",
        "1 & 0 & 1 & 0 & 1 \\\\ \\hline\n",
        "0 & 0 & 1 & 0 & 1 \\\\ \\hline\n",
        "1 & 1 & 0 & 0 & 1 \\\\ \\hline\n",
        "0 & 1 & 0 & 0 & 1 \\\\ \\hline\n",
        "1 & 0 & 0 & 0 & 0 \\\\ \\hline  \n",
        "0 & 0 & 0 & 0 & 1 \\\\ \\hline\n",
        "\\end{array}\n",
        "$$"
      ],
      "metadata": {
        "id": "YO3StJEgy2w5"
      }
    },
    {
      "cell_type": "markdown",
      "source": [
        "## Завдання 2\n",
        "Із 40 програмістів 18 володіють мовою Python, 19 — мовою С++, 21 — мовою Java. Відомо, що 10 програмістів знають одночасно Python і С++, 7 — Python і Java, 8 — C++ і Java. Троє програмістів не володіють жодною із мов Python, С++, Java. Знайти кількість програмістів, які одночасно знають усі три мови програмування."
      ],
      "metadata": {
        "id": "7n3tjLJey3Ho"
      }
    },
    {
      "cell_type": "markdown",
      "source": [
        "Позначимо кількість програмістів, які володіють мовою Python, С++, Java відповідно як P, C, J. \\\n",
        "Треба знайти кількість програмістів, які одночасно володіють усіма трема мовами, тобто P$\\wedge$C$\\wedge$J."
      ],
      "metadata": {
        "id": "NE6dRJKmy7za"
      }
    },
    {
      "cell_type": "markdown",
      "source": [],
      "metadata": {
        "id": "hEgzw4pdK_kB"
      }
    },
    {
      "cell_type": "markdown",
      "source": [
        "Ми знаємо, що:\n",
        "\n",
        "P=18 - володіють мовою Python\\\n",
        "C=19 - володіють мовою С++\\\n",
        "J=21 - володіють мовою Java\\\n",
        "P$\\wedge$C=10 - кількість програмістів, які знають Python і C++ \\\\\n",
        "P$\\wedge$J=7 - кількість програмістів, які знають Python і Java \\\\\n",
        "C$\\wedge$J=8 - кількість програмістів, які знають  C++ і Java \\\\\n",
        "P$\\wedge$C$\\wedge$J=? - кількість програмістів, які знають C++, Java, Python"
      ],
      "metadata": {
        "id": "mV6HwjOuIhPj"
      }
    },
    {
      "cell_type": "markdown",
      "source": [
        "Ми також знаємо, що всього є 40 програмістів, і 3 з них не знають жодної мови програмування, тобто\n",
        "\\\n",
        "P$\\vee$C$\\vee$J +3=40\\\n",
        "За допомогою принципу включення-виключення ми можемо визначити кількість програмістів, які володіють хоча б однією мовою:"
      ],
      "metadata": {
        "id": "f112P4nAJZhj"
      }
    },
    {
      "cell_type": "markdown",
      "source": [
        "|P$\\vee$C$\\vee$J|=|P| + |C| + |J| - |P$\\wedge$C| - |P$\\wedge$J| - |C$\\wedge$J|+ |P$\\wedge$C$\\wedge$J| + 3"
      ],
      "metadata": {
        "id": "Q6i2UeYmMBNN"
      }
    },
    {
      "cell_type": "markdown",
      "source": [
        "Підставимо відомі значення:\n",
        "\n",
        "40 = 18 + 19 + 21 - 10 - 7 - 8 + |P$\\wedge$C$\\wedge$J| + 3\n"
      ],
      "metadata": {
        "id": "1lE_CgE4Oz7n"
      }
    },
    {
      "cell_type": "markdown",
      "source": [
        "40 = 36 + |P$\\wedge$C$\\wedge$J|"
      ],
      "metadata": {
        "id": "_zVrgI7iPWxG"
      }
    },
    {
      "cell_type": "markdown",
      "source": [
        "|P$\\wedge$C$\\wedge$J| = 40 - 36 = 4"
      ],
      "metadata": {
        "id": "yBk7440iQDP6"
      }
    },
    {
      "cell_type": "markdown",
      "source": [
        "Отже, 4 програмістів одночасно володіють усіма трьома мовами програмування (Python, C++, Java)."
      ],
      "metadata": {
        "id": "IHTD3kFmQNGf"
      }
    }
  ]
}