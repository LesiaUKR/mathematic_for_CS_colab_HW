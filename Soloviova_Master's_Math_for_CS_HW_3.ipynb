{
  "nbformat": 4,
  "nbformat_minor": 0,
  "metadata": {
    "colab": {
      "provenance": []
    },
    "kernelspec": {
      "name": "python3",
      "display_name": "Python 3"
    },
    "language_info": {
      "name": "python"
    }
  },
  "cells": [
    {
      "cell_type": "markdown",
      "source": [
        "\n",
        "\n",
        "Дано 4 точки: $M_0(0, 0, 0), M_1(1, \\frac{1}{3}, 0), M_2(0, 2, \\frac{1}{4}), M_3(\\frac{1}{2}, \\frac{1}{2}, 1)$.\n",
        "\n",
        "Також дано 3 вектори, які задають паралелепіпед із зазначеними точками:\n",
        "- $\\overline{a}=\\overline{M_0M_1}$\n",
        "- $\\overline{b}=\\overline{M_0M_2}$\n",
        "- $\\overline{c}=\\overline{M_0M_3}$\n",
        "\n",
        "Порахуй координати векторів через задані точки.  \n",
        "Порахуй об'єм, площу повної поверхні паралелепіпеда та кути між ребрами паралелепіпеда, координати решти вершин паралелепіпеда.\n",
        "\n"
      ],
      "metadata": {
        "id": "hcaEinFBN22V"
      }
    },
    {
      "cell_type": "markdown",
      "source": [
        "$\\overline{a} = ? = \\left (\\begin{array}{cc}\n",
        "?\\\\\n",
        "?\\\\\n",
        "?\n",
        "\\end{array}\\right)\n",
        "\\\\\n",
        "\\overline{b} = ? = \\left (\\begin{array}{cc}\n",
        "?\\\\\n",
        "?\\\\\n",
        "?\n",
        "\\end{array}\\right)\n",
        "\\\\\n",
        "\\overline{c} = ? = \\left (\\begin{array}{cc}\n",
        "?\\\\\n",
        "?\\\\\n",
        "?\n",
        "\\end{array}\\right)\n",
        "$"
      ],
      "metadata": {
        "id": "sktokwYqSqhu"
      }
    },
    {
      "cell_type": "markdown",
      "source": [
        "$\n",
        "V = ?\\\\\n",
        "S = ?\\\\\n",
        "\\angle(a, b) = ?\\\\\n",
        "\\angle(a, c) = ?\\\\\n",
        "\\angle(b, c) = ?\\\\\n",
        "M_4 = ?\\\\\n",
        "M_5 = ?\\\\\n",
        "M_6 = ?\\\\\n",
        "M_7 = ?\n",
        "$"
      ],
      "metadata": {
        "id": "SVtaqixdAuJP"
      }
    },
    {
      "cell_type": "markdown",
      "source": [
        "\n",
        "# Аналітичні розрахунки:\n",
        "### Координати векторів:\n",
        "\n",
        "1. Вектор $\\overline{a} = \\overrightarrow{M_0M_1}$:\\\n",
        "$$\n",
        "\\overline{a} = \\overline{𝑀_0𝑀_1} = 𝑀_1 - 𝑀_0\n",
        "\\\\\n",
        "\\overline{a} = (1 - 0,\\frac{1}{3}-0,0-0) = (1,\\frac{1}{3},0)\n",
        "$$\n",
        "\n",
        "\n",
        "\n",
        "\n"
      ],
      "metadata": {
        "id": "j-BftieoCHTu"
      }
    },
    {
      "cell_type": "markdown",
      "source": [
        "2. Вектор $\\overline{b} = \\overrightarrow{M_0M_2}$:\\\n",
        "$$\n",
        "\\overline{b} = \\overline{𝑀_0𝑀_2} = 𝑀_2 - 𝑀_0\n",
        "\\\\\n",
        "\\overline{b} = (0 - 0,2-0,\\frac{1}{4}-0) = (0,2,\\frac{1}{4})\n",
        "$$\n"
      ],
      "metadata": {
        "id": "vWJPBujQ57uX"
      }
    },
    {
      "cell_type": "markdown",
      "source": [
        "3. Вектор $\\overline{c} = \\overrightarrow{M_0M_3}$:\n",
        "$$\n",
        "\\overline{c} = \\overline{𝑀_0𝑀_3} = 𝑀_3 - 𝑀_0\n",
        "\\\\\n",
        "\\overline{c} = (\\frac{1}{2} - 0,\\frac{1}{2}-0,1-0) = (\\frac{1}{2},\\frac{1}{2},1)\n",
        "$$\n"
      ],
      "metadata": {
        "id": "16OEAB0Y6C_7"
      }
    },
    {
      "cell_type": "code",
      "source": [
        "import numpy as np\n",
        "import plotly.graph_objects as go\n",
        "\n",
        "# Координати точок\n",
        "M0 = np.array([0, 0, 0])\n",
        "M1 = np.array([1, 1/3, 0])\n",
        "M2 = np.array([0, 2, 1/4])\n",
        "M3 = np.array([1/2, 1/2, 1])\n",
        "\n",
        "# Обчислення векторів\n",
        "a = M1 - M0\n",
        "b = M2 - M0\n",
        "c = M3 - M0\n",
        "\n",
        "# Виводимо координати векторів\n",
        "print(f\"Вектор a: {a}\")\n",
        "print(f\"Вектор b: {b}\")\n",
        "print(f\"Вектор c: {c}\")\n",
        "\n",
        "# Створення графіка\n",
        "fig = go.Figure()\n",
        "\n",
        "# Додавання точок\n",
        "fig.add_trace(go.Scatter3d(x=[M0[0], M1[0], M2[0], M3[0]],\n",
        "                           y=[M0[1], M1[1], M2[1], M3[1]],\n",
        "                           z=[M0[2], M1[2], M2[2], M3[2]],\n",
        "                           mode='markers',\n",
        "                           marker=dict(size=5, color='red'),\n",
        "                           name='Точки'))\n",
        "\n",
        "# Додавання векторів як лінійних сегментів\n",
        "fig.add_trace(go.Scatter3d(x=[M0[0], M1[0]],\n",
        "                           y=[M0[1], M1[1]],\n",
        "                           z=[M0[2], M1[2]],\n",
        "                           mode='lines',\n",
        "                           line=dict(color='blue', width=5),\n",
        "                           name='Вектор a (M0M1)'))\n",
        "\n",
        "fig.add_trace(go.Scatter3d(x=[M0[0], M2[0]],\n",
        "                           y=[M0[1], M2[1]],\n",
        "                           z=[M0[2], M2[2]],\n",
        "                           mode='lines',\n",
        "                           line=dict(color='red', width=5),\n",
        "                           name='Вектор b (M0M2)'))\n",
        "\n",
        "fig.add_trace(go.Scatter3d(x=[M0[0], M3[0]],\n",
        "                           y=[M0[1], M3[1]],\n",
        "                           z=[M0[2], M3[2]],\n",
        "                           mode='lines',\n",
        "                           line=dict(color='green', width=5),\n",
        "                           name='Вектор c (M0M3)'))\n",
        "\n",
        "# Налаштування осей з підписами\n",
        "fig.update_layout(scene=dict(\n",
        "                    xaxis=dict(title='Вісь x', nticks=10, range=[-1, 2]),\n",
        "                    yaxis=dict(title='Вісь y', nticks=10, range=[-1, 3]),\n",
        "                    zaxis=dict(title='Вісь z', nticks=10, range=[-1, 2]),\n",
        "                    aspectratio=dict(x=1, y=1, z=1)),\n",
        "                  title=\"Вектори паралелепіпеда як відрізки\",\n",
        "                  legend=dict(x=1.1, y=0.5),\n",
        "                  showlegend=True)\n",
        "\n",
        "fig.show()\n"
      ],
      "metadata": {
        "colab": {
          "base_uri": "https://localhost:8080/",
          "height": 594
        },
        "id": "xyCgHriC7J_E",
        "outputId": "6d1a826c-181d-49a4-80bb-8f949004c991"
      },
      "execution_count": 7,
      "outputs": [
        {
          "output_type": "stream",
          "name": "stdout",
          "text": [
            "Вектор a: [1.         0.33333333 0.        ]\n",
            "Вектор b: [0.   2.   0.25]\n",
            "Вектор c: [0.5 0.5 1. ]\n"
          ]
        },
        {
          "output_type": "display_data",
          "data": {
            "text/html": [
              "<html>\n",
              "<head><meta charset=\"utf-8\" /></head>\n",
              "<body>\n",
              "    <div>            <script src=\"https://cdnjs.cloudflare.com/ajax/libs/mathjax/2.7.5/MathJax.js?config=TeX-AMS-MML_SVG\"></script><script type=\"text/javascript\">if (window.MathJax && window.MathJax.Hub && window.MathJax.Hub.Config) {window.MathJax.Hub.Config({SVG: {font: \"STIX-Web\"}});}</script>                <script type=\"text/javascript\">window.PlotlyConfig = {MathJaxConfig: 'local'};</script>\n",
              "        <script charset=\"utf-8\" src=\"https://cdn.plot.ly/plotly-2.24.1.min.js\"></script>                <div id=\"e614e05f-f855-4fcf-9b03-cb1aab3aae2f\" class=\"plotly-graph-div\" style=\"height:525px; width:100%;\"></div>            <script type=\"text/javascript\">                                    window.PLOTLYENV=window.PLOTLYENV || {};                                    if (document.getElementById(\"e614e05f-f855-4fcf-9b03-cb1aab3aae2f\")) {                    Plotly.newPlot(                        \"e614e05f-f855-4fcf-9b03-cb1aab3aae2f\",                        [{\"marker\":{\"color\":\"red\",\"size\":5},\"mode\":\"markers\",\"name\":\"\\u0422\\u043e\\u0447\\u043a\\u0438\",\"x\":[0,1.0,0.0,0.5],\"y\":[0,0.3333333333333333,2.0,0.5],\"z\":[0,0.0,0.25,1.0],\"type\":\"scatter3d\"},{\"line\":{\"color\":\"blue\",\"width\":5},\"mode\":\"lines\",\"name\":\"\\u0412\\u0435\\u043a\\u0442\\u043e\\u0440 a (M0M1)\",\"x\":[0,1.0],\"y\":[0,0.3333333333333333],\"z\":[0,0.0],\"type\":\"scatter3d\"},{\"line\":{\"color\":\"red\",\"width\":5},\"mode\":\"lines\",\"name\":\"\\u0412\\u0435\\u043a\\u0442\\u043e\\u0440 b (M0M2)\",\"x\":[0,0.0],\"y\":[0,2.0],\"z\":[0,0.25],\"type\":\"scatter3d\"},{\"line\":{\"color\":\"green\",\"width\":5},\"mode\":\"lines\",\"name\":\"\\u0412\\u0435\\u043a\\u0442\\u043e\\u0440 c (M0M3)\",\"x\":[0,0.5],\"y\":[0,0.5],\"z\":[0,1.0],\"type\":\"scatter3d\"}],                        {\"template\":{\"data\":{\"histogram2dcontour\":[{\"type\":\"histogram2dcontour\",\"colorbar\":{\"outlinewidth\":0,\"ticks\":\"\"},\"colorscale\":[[0.0,\"#0d0887\"],[0.1111111111111111,\"#46039f\"],[0.2222222222222222,\"#7201a8\"],[0.3333333333333333,\"#9c179e\"],[0.4444444444444444,\"#bd3786\"],[0.5555555555555556,\"#d8576b\"],[0.6666666666666666,\"#ed7953\"],[0.7777777777777778,\"#fb9f3a\"],[0.8888888888888888,\"#fdca26\"],[1.0,\"#f0f921\"]]}],\"choropleth\":[{\"type\":\"choropleth\",\"colorbar\":{\"outlinewidth\":0,\"ticks\":\"\"}}],\"histogram2d\":[{\"type\":\"histogram2d\",\"colorbar\":{\"outlinewidth\":0,\"ticks\":\"\"},\"colorscale\":[[0.0,\"#0d0887\"],[0.1111111111111111,\"#46039f\"],[0.2222222222222222,\"#7201a8\"],[0.3333333333333333,\"#9c179e\"],[0.4444444444444444,\"#bd3786\"],[0.5555555555555556,\"#d8576b\"],[0.6666666666666666,\"#ed7953\"],[0.7777777777777778,\"#fb9f3a\"],[0.8888888888888888,\"#fdca26\"],[1.0,\"#f0f921\"]]}],\"heatmap\":[{\"type\":\"heatmap\",\"colorbar\":{\"outlinewidth\":0,\"ticks\":\"\"},\"colorscale\":[[0.0,\"#0d0887\"],[0.1111111111111111,\"#46039f\"],[0.2222222222222222,\"#7201a8\"],[0.3333333333333333,\"#9c179e\"],[0.4444444444444444,\"#bd3786\"],[0.5555555555555556,\"#d8576b\"],[0.6666666666666666,\"#ed7953\"],[0.7777777777777778,\"#fb9f3a\"],[0.8888888888888888,\"#fdca26\"],[1.0,\"#f0f921\"]]}],\"heatmapgl\":[{\"type\":\"heatmapgl\",\"colorbar\":{\"outlinewidth\":0,\"ticks\":\"\"},\"colorscale\":[[0.0,\"#0d0887\"],[0.1111111111111111,\"#46039f\"],[0.2222222222222222,\"#7201a8\"],[0.3333333333333333,\"#9c179e\"],[0.4444444444444444,\"#bd3786\"],[0.5555555555555556,\"#d8576b\"],[0.6666666666666666,\"#ed7953\"],[0.7777777777777778,\"#fb9f3a\"],[0.8888888888888888,\"#fdca26\"],[1.0,\"#f0f921\"]]}],\"contourcarpet\":[{\"type\":\"contourcarpet\",\"colorbar\":{\"outlinewidth\":0,\"ticks\":\"\"}}],\"contour\":[{\"type\":\"contour\",\"colorbar\":{\"outlinewidth\":0,\"ticks\":\"\"},\"colorscale\":[[0.0,\"#0d0887\"],[0.1111111111111111,\"#46039f\"],[0.2222222222222222,\"#7201a8\"],[0.3333333333333333,\"#9c179e\"],[0.4444444444444444,\"#bd3786\"],[0.5555555555555556,\"#d8576b\"],[0.6666666666666666,\"#ed7953\"],[0.7777777777777778,\"#fb9f3a\"],[0.8888888888888888,\"#fdca26\"],[1.0,\"#f0f921\"]]}],\"surface\":[{\"type\":\"surface\",\"colorbar\":{\"outlinewidth\":0,\"ticks\":\"\"},\"colorscale\":[[0.0,\"#0d0887\"],[0.1111111111111111,\"#46039f\"],[0.2222222222222222,\"#7201a8\"],[0.3333333333333333,\"#9c179e\"],[0.4444444444444444,\"#bd3786\"],[0.5555555555555556,\"#d8576b\"],[0.6666666666666666,\"#ed7953\"],[0.7777777777777778,\"#fb9f3a\"],[0.8888888888888888,\"#fdca26\"],[1.0,\"#f0f921\"]]}],\"mesh3d\":[{\"type\":\"mesh3d\",\"colorbar\":{\"outlinewidth\":0,\"ticks\":\"\"}}],\"scatter\":[{\"fillpattern\":{\"fillmode\":\"overlay\",\"size\":10,\"solidity\":0.2},\"type\":\"scatter\"}],\"parcoords\":[{\"type\":\"parcoords\",\"line\":{\"colorbar\":{\"outlinewidth\":0,\"ticks\":\"\"}}}],\"scatterpolargl\":[{\"type\":\"scatterpolargl\",\"marker\":{\"colorbar\":{\"outlinewidth\":0,\"ticks\":\"\"}}}],\"bar\":[{\"error_x\":{\"color\":\"#2a3f5f\"},\"error_y\":{\"color\":\"#2a3f5f\"},\"marker\":{\"line\":{\"color\":\"#E5ECF6\",\"width\":0.5},\"pattern\":{\"fillmode\":\"overlay\",\"size\":10,\"solidity\":0.2}},\"type\":\"bar\"}],\"scattergeo\":[{\"type\":\"scattergeo\",\"marker\":{\"colorbar\":{\"outlinewidth\":0,\"ticks\":\"\"}}}],\"scatterpolar\":[{\"type\":\"scatterpolar\",\"marker\":{\"colorbar\":{\"outlinewidth\":0,\"ticks\":\"\"}}}],\"histogram\":[{\"marker\":{\"pattern\":{\"fillmode\":\"overlay\",\"size\":10,\"solidity\":0.2}},\"type\":\"histogram\"}],\"scattergl\":[{\"type\":\"scattergl\",\"marker\":{\"colorbar\":{\"outlinewidth\":0,\"ticks\":\"\"}}}],\"scatter3d\":[{\"type\":\"scatter3d\",\"line\":{\"colorbar\":{\"outlinewidth\":0,\"ticks\":\"\"}},\"marker\":{\"colorbar\":{\"outlinewidth\":0,\"ticks\":\"\"}}}],\"scattermapbox\":[{\"type\":\"scattermapbox\",\"marker\":{\"colorbar\":{\"outlinewidth\":0,\"ticks\":\"\"}}}],\"scatterternary\":[{\"type\":\"scatterternary\",\"marker\":{\"colorbar\":{\"outlinewidth\":0,\"ticks\":\"\"}}}],\"scattercarpet\":[{\"type\":\"scattercarpet\",\"marker\":{\"colorbar\":{\"outlinewidth\":0,\"ticks\":\"\"}}}],\"carpet\":[{\"aaxis\":{\"endlinecolor\":\"#2a3f5f\",\"gridcolor\":\"white\",\"linecolor\":\"white\",\"minorgridcolor\":\"white\",\"startlinecolor\":\"#2a3f5f\"},\"baxis\":{\"endlinecolor\":\"#2a3f5f\",\"gridcolor\":\"white\",\"linecolor\":\"white\",\"minorgridcolor\":\"white\",\"startlinecolor\":\"#2a3f5f\"},\"type\":\"carpet\"}],\"table\":[{\"cells\":{\"fill\":{\"color\":\"#EBF0F8\"},\"line\":{\"color\":\"white\"}},\"header\":{\"fill\":{\"color\":\"#C8D4E3\"},\"line\":{\"color\":\"white\"}},\"type\":\"table\"}],\"barpolar\":[{\"marker\":{\"line\":{\"color\":\"#E5ECF6\",\"width\":0.5},\"pattern\":{\"fillmode\":\"overlay\",\"size\":10,\"solidity\":0.2}},\"type\":\"barpolar\"}],\"pie\":[{\"automargin\":true,\"type\":\"pie\"}]},\"layout\":{\"autotypenumbers\":\"strict\",\"colorway\":[\"#636efa\",\"#EF553B\",\"#00cc96\",\"#ab63fa\",\"#FFA15A\",\"#19d3f3\",\"#FF6692\",\"#B6E880\",\"#FF97FF\",\"#FECB52\"],\"font\":{\"color\":\"#2a3f5f\"},\"hovermode\":\"closest\",\"hoverlabel\":{\"align\":\"left\"},\"paper_bgcolor\":\"white\",\"plot_bgcolor\":\"#E5ECF6\",\"polar\":{\"bgcolor\":\"#E5ECF6\",\"angularaxis\":{\"gridcolor\":\"white\",\"linecolor\":\"white\",\"ticks\":\"\"},\"radialaxis\":{\"gridcolor\":\"white\",\"linecolor\":\"white\",\"ticks\":\"\"}},\"ternary\":{\"bgcolor\":\"#E5ECF6\",\"aaxis\":{\"gridcolor\":\"white\",\"linecolor\":\"white\",\"ticks\":\"\"},\"baxis\":{\"gridcolor\":\"white\",\"linecolor\":\"white\",\"ticks\":\"\"},\"caxis\":{\"gridcolor\":\"white\",\"linecolor\":\"white\",\"ticks\":\"\"}},\"coloraxis\":{\"colorbar\":{\"outlinewidth\":0,\"ticks\":\"\"}},\"colorscale\":{\"sequential\":[[0.0,\"#0d0887\"],[0.1111111111111111,\"#46039f\"],[0.2222222222222222,\"#7201a8\"],[0.3333333333333333,\"#9c179e\"],[0.4444444444444444,\"#bd3786\"],[0.5555555555555556,\"#d8576b\"],[0.6666666666666666,\"#ed7953\"],[0.7777777777777778,\"#fb9f3a\"],[0.8888888888888888,\"#fdca26\"],[1.0,\"#f0f921\"]],\"sequentialminus\":[[0.0,\"#0d0887\"],[0.1111111111111111,\"#46039f\"],[0.2222222222222222,\"#7201a8\"],[0.3333333333333333,\"#9c179e\"],[0.4444444444444444,\"#bd3786\"],[0.5555555555555556,\"#d8576b\"],[0.6666666666666666,\"#ed7953\"],[0.7777777777777778,\"#fb9f3a\"],[0.8888888888888888,\"#fdca26\"],[1.0,\"#f0f921\"]],\"diverging\":[[0,\"#8e0152\"],[0.1,\"#c51b7d\"],[0.2,\"#de77ae\"],[0.3,\"#f1b6da\"],[0.4,\"#fde0ef\"],[0.5,\"#f7f7f7\"],[0.6,\"#e6f5d0\"],[0.7,\"#b8e186\"],[0.8,\"#7fbc41\"],[0.9,\"#4d9221\"],[1,\"#276419\"]]},\"xaxis\":{\"gridcolor\":\"white\",\"linecolor\":\"white\",\"ticks\":\"\",\"title\":{\"standoff\":15},\"zerolinecolor\":\"white\",\"automargin\":true,\"zerolinewidth\":2},\"yaxis\":{\"gridcolor\":\"white\",\"linecolor\":\"white\",\"ticks\":\"\",\"title\":{\"standoff\":15},\"zerolinecolor\":\"white\",\"automargin\":true,\"zerolinewidth\":2},\"scene\":{\"xaxis\":{\"backgroundcolor\":\"#E5ECF6\",\"gridcolor\":\"white\",\"linecolor\":\"white\",\"showbackground\":true,\"ticks\":\"\",\"zerolinecolor\":\"white\",\"gridwidth\":2},\"yaxis\":{\"backgroundcolor\":\"#E5ECF6\",\"gridcolor\":\"white\",\"linecolor\":\"white\",\"showbackground\":true,\"ticks\":\"\",\"zerolinecolor\":\"white\",\"gridwidth\":2},\"zaxis\":{\"backgroundcolor\":\"#E5ECF6\",\"gridcolor\":\"white\",\"linecolor\":\"white\",\"showbackground\":true,\"ticks\":\"\",\"zerolinecolor\":\"white\",\"gridwidth\":2}},\"shapedefaults\":{\"line\":{\"color\":\"#2a3f5f\"}},\"annotationdefaults\":{\"arrowcolor\":\"#2a3f5f\",\"arrowhead\":0,\"arrowwidth\":1},\"geo\":{\"bgcolor\":\"white\",\"landcolor\":\"#E5ECF6\",\"subunitcolor\":\"white\",\"showland\":true,\"showlakes\":true,\"lakecolor\":\"white\"},\"title\":{\"x\":0.05},\"mapbox\":{\"style\":\"light\"}}},\"scene\":{\"xaxis\":{\"title\":{\"text\":\"\\u0412\\u0456\\u0441\\u044c x\"},\"nticks\":10,\"range\":[-1,2]},\"yaxis\":{\"title\":{\"text\":\"\\u0412\\u0456\\u0441\\u044c y\"},\"nticks\":10,\"range\":[-1,3]},\"zaxis\":{\"title\":{\"text\":\"\\u0412\\u0456\\u0441\\u044c z\"},\"nticks\":10,\"range\":[-1,2]},\"aspectratio\":{\"x\":1,\"y\":1,\"z\":1}},\"legend\":{\"x\":1.1,\"y\":0.5},\"title\":{\"text\":\"\\u0412\\u0435\\u043a\\u0442\\u043e\\u0440\\u0438 \\u043f\\u0430\\u0440\\u0430\\u043b\\u0435\\u043b\\u0435\\u043f\\u0456\\u043f\\u0435\\u0434\\u0430 \\u044f\\u043a \\u0432\\u0456\\u0434\\u0440\\u0456\\u0437\\u043a\\u0438\"},\"showlegend\":true},                        {\"responsive\": true}                    ).then(function(){\n",
              "                            \n",
              "var gd = document.getElementById('e614e05f-f855-4fcf-9b03-cb1aab3aae2f');\n",
              "var x = new MutationObserver(function (mutations, observer) {{\n",
              "        var display = window.getComputedStyle(gd).display;\n",
              "        if (!display || display === 'none') {{\n",
              "            console.log([gd, 'removed!']);\n",
              "            Plotly.purge(gd);\n",
              "            observer.disconnect();\n",
              "        }}\n",
              "}});\n",
              "\n",
              "// Listen for the removal of the full notebook cells\n",
              "var notebookContainer = gd.closest('#notebook-container');\n",
              "if (notebookContainer) {{\n",
              "    x.observe(notebookContainer, {childList: true});\n",
              "}}\n",
              "\n",
              "// Listen for the clearing of the current output cell\n",
              "var outputEl = gd.closest('.output');\n",
              "if (outputEl) {{\n",
              "    x.observe(outputEl, {childList: true});\n",
              "}}\n",
              "\n",
              "                        })                };                            </script>        </div>\n",
              "</body>\n",
              "</html>"
            ]
          },
          "metadata": {}
        }
      ]
    },
    {
      "cell_type": "markdown",
      "source": [
        "## Об'єм паралелепіпеда:\n",
        "### Об'єм паралелепіпеда можна знайти за допомогою векторного добутку:\n",
        "\\\n",
        "$$\n",
        "V = \\left|\\overline{a} \\cdot \\left(\\overline{b} \\times \\overline{c}\\right)\\right|\n",
        "$$\n"
      ],
      "metadata": {
        "id": "whxeJija9vvg"
      }
    },
    {
      "cell_type": "markdown",
      "source": [
        "1. Обчислимо векторний добуток $\\overline{\\boldsymbol b} \\times \\overline{c}$:\\\n",
        "Векторний добуток двох векторів $\\overrightarrow{\\boldsymbol u} = (u_1, u_2, u_3)$ та $\\overrightarrow{\\boldsymbol v} = (v_1, v_2, v_3)$ визначається як:"
      ],
      "metadata": {
        "id": "UKun5yGF-Mq0"
      }
    },
    {
      "cell_type": "markdown",
      "source": [
        "$$\n",
        "\\overline{u}\\times\\overline{v}=\\left|\\begin{array}{cc} \\widehat{i} & \\widehat{j} & \\widehat{k}\\\\ u_1 & u_2 & u_3 \\\\ v_1 & v_2 & v_3 \\\\  \\end{array}\\right| =(u_2v_3-u_3v_2, u_3v_1-u_1v_3, u_1v_2-u_2v_1)\n",
        " $$"
      ],
      "metadata": {
        "id": "OhubXDiuCjE3"
      }
    },
    {
      "cell_type": "markdown",
      "source": [
        "Таким чином, для векторів $\\overline{\\boldsymbol b} \\times \\overline{c}$:\n",
        "$$\n",
        "\\overline{b}\\times\\overline{c}=\\left|\\begin{array}{cc} i & j & k \\\\ 0 & 2 & \\frac{1}{4}  \\\\ \\frac{1}{2} &  \\frac{1}{2} & 1\\\\  \\end{array}\\right| = i\\left(2 \\cdot 1-\\frac{1}{4} \\cdot \\frac{1}{2}\\right) - j\\left(0 \\cdot 1 - \\frac{1}{4} \\cdot \\frac{1}{2}\\right) + k\\left(0 \\cdot \\frac{1}{2} - 2 \\cdot \\frac{1}{2}\\right)\n",
        "$$\n",
        "\n"
      ],
      "metadata": {
        "id": "sSEXO0WnEtwn"
      }
    },
    {
      "cell_type": "markdown",
      "source": [
        "$$\n",
        "\\overline{b}\\times\\overline{c}=\n",
        "\\left(2 - \\frac{1}{8}, - \\frac{1}{8},-1\\right)=\n",
        "\\left(\\frac{15}{8}, - \\frac{1}{8},-1\\right)\n",
        "$$"
      ],
      "metadata": {
        "id": "FpNILxlvFqVF"
      }
    },
    {
      "cell_type": "markdown",
      "source": [
        "2. Обчислимо скалярний добуток $\\overrightarrow{a} \\cdot (\\overrightarrow{b} \\times \\overrightarrow{c})$:\\\n",
        "Скалярний добуток двох векторів $\\overrightarrow{\\boldsymbol u} = (u_1, u_2, u_3)$ та $\\overrightarrow{\\boldsymbol v} = (v_1, v_2, v_3)$ визначається як:"
      ],
      "metadata": {
        "id": "nERYimZLFzSE"
      }
    },
    {
      "cell_type": "markdown",
      "source": [
        "$$\n",
        "\\overrightarrow{\\boldsymbol u} \\cdot \\overrightarrow{\\boldsymbol v} = u_1v_1 + u_2v_2 + u_3v_3\n",
        "$$"
      ],
      "metadata": {
        "id": "NmG7Wu7EGnDY"
      }
    },
    {
      "cell_type": "markdown",
      "source": [
        "Таким чином, для векторів  $\\overrightarrow{a} та \\overrightarrow{b} \\times \\overrightarrow{c}$:\\\n",
        "\\\n",
        " $$\\overrightarrow{a} \\cdot (\\overrightarrow{b} \\times \\overrightarrow{c})=(1, \\frac{1}{3}, 0) ⋅ (\\frac{15}{8},\\frac{1}{8}, -1) = 1 \\cdot \\frac{15}{8}+  \\frac{1}{3} \\cdot  \\frac{1}{8} + 0 \\cdot -1 = \\frac{15}{8} + \\frac{1}{24} = \\frac{15 \\cdot 3 +1}{24} = \\frac{45+1}{24}=\\frac{46}{24}=\\frac{23}{12}$$\n"
      ],
      "metadata": {
        "id": "Esk5aABoHQlH"
      }
    },
    {
      "cell_type": "markdown",
      "source": [
        "3. Обчислимо об'єм паралелепіпеда:\\\n",
        "$$\n",
        "V = \\left|\\overrightarrow{a} \\cdot (\\overrightarrow{b} \\times \\overrightarrow{c})\\right|= \\left|\\frac{23}{12} \\right| = \\frac{23}{12}\n",
        "$$"
      ],
      "metadata": {
        "id": "pW4zn_ZqJzqP"
      }
    },
    {
      "cell_type": "code",
      "source": [
        "\n",
        "# Векторний добуток b і c\n",
        "b_cross_c = np.cross(b, c)\n",
        "\n",
        "# Скалярний добуток a з (b × c)\n",
        "volume = np.abs(np.dot(a, b_cross_c))\n",
        "\n",
        "print(f\"Об'єм паралелепіпеда: {volume:.4f}\")\n"
      ],
      "metadata": {
        "colab": {
          "base_uri": "https://localhost:8080/"
        },
        "id": "SGKgddQ9Ltnd",
        "outputId": "53c1a242-9099-4976-a73b-7f0524879a76"
      },
      "execution_count": 9,
      "outputs": [
        {
          "output_type": "stream",
          "name": "stdout",
          "text": [
            "Об'єм паралелепіпеда: 1.9167\n"
          ]
        }
      ]
    },
    {
      "cell_type": "markdown",
      "source": [
        "## Площа повної поверхні паралелепіпеда складається з площ шести граней.\n",
        "### Кожна грань є паралелограмом, і її площа може бути обчислена за допомогою векторного добутку векторів, що утворюють цю грань.\n",
        "\n",
        "$$\n",
        "S=2(ab+bc+ac),\n",
        "$$\n",
        "\\\n",
        "де a, b та c - це вектори, що визначають сторони паралелепіпеда."
      ],
      "metadata": {
        "id": "cPw0gSScMfRx"
      }
    },
    {
      "cell_type": "markdown",
      "source": [
        "1. Обчислюємо площу грані, утвореної векторами\n",
        "$\\overline{\\boldsymbol b} \\times \\overline{c}$\\\n",
        "Для об'єму ми вже розрахували векторний добуток $\\overline{\\boldsymbol b} \\times \\overline{c}$ = $\\left(\\frac{15}{8}, - \\frac{1}{8},-1\\right)$"
      ],
      "metadata": {
        "id": "aT3wHHcnbfxD"
      }
    },
    {
      "cell_type": "markdown",
      "source": [
        "Знаходимо модуль векторного добутку: \\\n",
        "$$\n",
        "\\left|\\overline{b} \\times \\overline{c}\\right| = \\sqrt{\\left(\\frac{15}{8}\\right)^2 + \\left( - \\frac{1}{8}\\right)^2 + (-1)^2} = \\sqrt{\\frac{225}{64} + \\frac{1}{64} + 1} = \\sqrt{\\frac{225 + 1 + 64}{64}} = \\frac{\\sqrt{290}}{8}\n",
        "$$\n"
      ],
      "metadata": {
        "id": "3a6mJqICcRl8"
      }
    },
    {
      "cell_type": "markdown",
      "source": [
        "2. Обчислюємо площу грані, утвореної векторами\n",
        "$\\overline{\\boldsymbol a} \\times \\overline{b}$:\n",
        "\n",
        "Обчислимо векторний добуток:\n",
        "$$\n",
        "\\overline{a}\\times\\overline{b}=\\left|\\begin{array}{cc} i & j & k \\\\ 1 & \\frac{1}{3} & 0 \\\\ 0 & 2 & \\frac{1}{4} \\\\  \\end{array}\\right| = i\\left(\\frac{1}{3} \\cdot \\frac{1}{4} - 0 \\cdot 2\\right) - j\\left(1 \\cdot \\frac{1}{4} - 0 \\cdot 0\\right) + k\\left(1 \\cdot 2 - 0 \\cdot \\frac{1}{3}\\right)\n",
        "$$\n",
        "\n",
        "$$\n",
        "\\overline{a}\\times\\overline{b}=\n",
        "\\left(\\frac{1}{12}, - \\frac{1}{4},2\\right)\n",
        "$$\n",
        "\n",
        "$$\n",
        "\\left|\\overline{a} \\times \\overline{b}\\right| = \\sqrt{\\left(\\frac{1}{12}\\right)^2 + \\left( - \\frac{1}{4}\\right)^2 + 2^2} = \\sqrt{\\frac{1}{144} + \\frac{1}{16} + 4} = \\sqrt{\\frac{1 + 9 + 576}{144}} = \\sqrt{\\frac{586}{144}} = \\frac{\\sqrt{586}}{12}\n",
        "$$\n",
        "\n"
      ],
      "metadata": {
        "id": "iH5hsIHjd0gb"
      }
    },
    {
      "cell_type": "markdown",
      "source": [
        "Обчислюємо площу грані, утвореної векторами $\\overline{a}$ та $\\overline{c}$:\n",
        "Обчислимо векторні добутки:\n",
        "\n",
        "$$\n",
        "\\overline{a}\\times\\overline{c}=\\left|\\begin{array}{cc} i & j & k \\\\ 1 & \\frac{1}{3} & 0  \\\\ \\frac{1}{2} &  \\frac{1}{3} & 1\\\\  \\end{array}\\right| = i\\left(\\frac{1}{3} \\cdot 1-0 \\cdot \\frac{1}{2}\\right) - j\\left(1 \\cdot 1 - 0 \\cdot \\frac{1}{2}\\right) + k\\left(1 \\cdot \\frac{1}{2} - \\frac{1}{3} \\cdot \\frac{1}{2}\\right)\n",
        "$$\n",
        "\n",
        "$$\n",
        "\\overline{a}\\times\\overline{c}=\n",
        "\\left(\\frac{1}{3}, - 1, \\frac{1}{2}-\\frac{1}{6}\\right)=\n",
        "\\left(\\frac{1}{3}, - 1,\\frac{1}{3}\\right)\n",
        "$$\n",
        "\n",
        "$$\n",
        "\\left|\\overline{a} \\times \\overline{c}\\right| = \\sqrt{\\left(\\frac{1}{3}\\right)^2 +  (-1)^2 + \\left(\\frac{1}{3}\\right)^2} = \\sqrt{\\frac{1}{9} + 1 + \\frac{1}{9}}= \\sqrt{\\frac{1 + 9 + 1}{9}} = \\sqrt{\\frac{11}{9}}= \\frac{\\sqrt{11}}{3}\n",
        "$$\n"
      ],
      "metadata": {
        "id": "NAXyX_A2eys8"
      }
    },
    {
      "cell_type": "markdown",
      "source": [
        "### Тепер обчислимо площу:\n",
        "$$\n",
        "S = 2 \\cdot \\left(\\frac{\\sqrt{586}}{12} + \\frac{\\sqrt{290}}{8} + \\frac{\\sqrt{11}}{3}\\right) = 2 \\cdot \\left(\\frac{24.24}{12}+\\frac{17.03}{8}+\\frac{3.31}{3}\\right) = 2 \\cdot (2.02 + 2.13 + 1.10) = 2 \\cdot 5.25 = 10.5\n",
        "\\\n",
        "$$\n",
        "$$\n",
        "\\\n",
        "S = 10.5\n",
        "\\\n",
        "$$"
      ],
      "metadata": {
        "id": "-mr6gOePfYPb"
      }
    },
    {
      "cell_type": "code",
      "source": [
        "# Обчислення векторних добутків\n",
        "ab_cross_product = np.cross(a, b)\n",
        "ac_cross_product = np.cross(a, c)\n",
        "bc_cross_product = np.cross(b, c)\n",
        "\n",
        "# Обчислення модулів векторних добутків\n",
        "ab_cross_product_norm = np.linalg.norm(ab_cross_product)\n",
        "ac_cross_product_norm = np.linalg.norm(ac_cross_product)\n",
        "bc_cross_product_norm = np.linalg.norm(bc_cross_product)\n",
        "\n",
        "# Обчислення площі поверхні паралелепіпеда\n",
        "total_surface_area = 2 * (ab_cross_product_norm + ac_cross_product_norm + bc_cross_product_norm)\n",
        "\n",
        "print(\"Площа повної поверхні паралелепіпеда:\", total_surface_area)"
      ],
      "metadata": {
        "colab": {
          "base_uri": "https://localhost:8080/"
        },
        "id": "QqtR9OUYTGBq",
        "outputId": "48ccc11b-0e5d-4ed3-f69f-fa898080a035"
      },
      "execution_count": 14,
      "outputs": [
        {
          "output_type": "stream",
          "name": "stdout",
          "text": [
            "Площа повної поверхні паралелепіпеда: 10.50300259735527\n"
          ]
        }
      ]
    },
    {
      "cell_type": "markdown",
      "source": [
        "## Кути між ребрами паралелепіпеда"
      ],
      "metadata": {
        "id": "1yAPV8ARjeBT"
      }
    },
    {
      "cell_type": "markdown",
      "source": [
        "1. Кут між ребрами\n",
        "$\\overline{a}$ та  $\\overline{b}$:\\\n",
        "Знайдемо скалярний добуток:  \n",
        "$$\n",
        "\\overline{a} \\cdot \\overline{b} = 1 \\cdot 0 + \\frac{1}{3} \\cdot 2 + 0 \\cdot \\frac{1}{4} = \\frac{2}{3} $$\n",
        "Обчислимо довжини векторів:\n",
        "$$\n",
        "\\left|\\overline{a}\\right| = \\sqrt{1^2 + \\left(\\frac{1}{3}\\right)^2 + 0^2} = \\sqrt{1 + \\frac{1}{9}} = \\sqrt{\\frac{10}{9}} = \\frac{\\sqrt{10}}{3}$$\n",
        "$$\n",
        "\\left|\\overline{b}\\right| = \\sqrt{0^2 + 2^2 + \\left(\\frac{1}{4}\\right)^2} = \\sqrt{4 + \\frac{1}{16}} = \\sqrt{\\frac{65}{16}} = \\frac{\\sqrt{65}}{4}$$\n",
        "\n",
        "Обчислимо $cos\\left(\\theta \\right)$:\n",
        "\n",
        "$$\n",
        "cos\\left(\\theta_{ab}\\right) = \\frac{\\frac{2}{3}}{\\frac{\\sqrt{10}}{3} \\cdot \\frac{\\sqrt{65}}{4}} = \\frac{\\frac{2}{3}}{\\frac{\\sqrt{650}}{12}} = \\frac{2 \\cdot 12}{3\\sqrt{650}} = \\frac{8}{\\sqrt{650}}\n",
        "$$"
      ],
      "metadata": {
        "id": "GskYSjZVj-b9"
      }
    },
    {
      "cell_type": "markdown",
      "source": [
        "2. Кут між  $\\overline{a}$ та  $\\overline{c}$\n",
        "\n",
        "Знайдемо скалярний добуток:  \n",
        "$$\n",
        "\\overline{a} \\cdot \\overline{c} = 1 \\cdot \\frac{1}{2} + \\frac{1}{3} \\cdot \\frac{1}{2} + 0 \\cdot 1 = \\frac{2}{3} $$\n",
        "Обчислимо довжини векторів:\n",
        "$$\n",
        "\\left|\\overline{c}\\right| = \\sqrt{\\left(\\frac{1}{2}\\right)^2 + \\left(\\frac{1}{2}\\right)^2+ 1^2} = \\sqrt{\\frac{1}{4} + \\frac{1}{4} + 1} = \\sqrt{\\frac{3}{2}} = \\frac{\\sqrt{6}}{2}$$\n",
        "\n",
        "Обчислимо $cos\\left(\\theta \\right)$:\n",
        "\n",
        "$$\n",
        "cos\\left(\\theta_{ac}\\right) = \\frac{\\frac{2}{3}}{\\frac{\\sqrt{10}}{3} \\cdot \\frac{\\sqrt{6}}{2}} = \\frac{\\frac{2}{3}}{\\frac{\\sqrt{60}}{6}} = = \\frac{4}{\\sqrt{60}}\n",
        "$$\n"
      ],
      "metadata": {
        "id": "LsQw4j0nkmcW"
      }
    },
    {
      "cell_type": "markdown",
      "source": [],
      "metadata": {
        "id": "I2c7dccyktg7"
      }
    },
    {
      "cell_type": "markdown",
      "source": [
        "3. Кут між  $\\overline{b}$ та  $\\overline{c}$\n",
        "\n",
        "Знайдемо скалярний добуток:  \n",
        "$$\n",
        "\\overline{b} \\cdot \\overline{c} = 0 \\cdot \\frac{1}{2} + 2 \\cdot \\frac{1}{2} + \\frac{1}{4} \\cdot 1 = 1 + \\frac{1}{4}= \\frac{5}{4} $$\n",
        "\n",
        "Обчислимо $cos\\left(\\theta \\right)$:\n",
        "\n",
        "$$\n",
        "cos\\left(\\theta_{bc}\\right) = \\frac{\\frac{5}{4}}{\\frac{\\sqrt{65}}{4} \\cdot \\frac{\\sqrt{6}}{2}} = \\frac{\\frac{5}{4}}{\\frac{\\sqrt{390}}{8}} = = \\frac{10}{\\sqrt{390}}\n",
        "$$"
      ],
      "metadata": {
        "id": "MfjC4ZxRkvyX"
      }
    },
    {
      "cell_type": "code",
      "source": [
        "# Обчислення кутів між ребрами паралелепіпеда\n",
        "cos_angle_ab = np.dot(a, b) / (np.linalg.norm(a) * np.linalg.norm(b))\n",
        "cos_angle_ac = np.dot(a, c) / (np.linalg.norm(a) * np.linalg.norm(c))\n",
        "cos_angle_bc = np.dot(b, c) / (np.linalg.norm(b) * np.linalg.norm(c))\n",
        "\n",
        "# Переведення косинусів у кути у радіанах\n",
        "angle_ab = np.arccos(cos_angle_ab)\n",
        "angle_ac = np.arccos(cos_angle_ac)\n",
        "angle_bc = np.arccos(cos_angle_bc)\n",
        "\n",
        "# Переведення кути в градуси\n",
        "angle_ab_deg = np.degrees(angle_ab)\n",
        "angle_ac_deg = np.degrees(angle_ac)\n",
        "angle_bc_deg = np.degrees(angle_bc)\n",
        "\n",
        "print(\"Кут між ребрами ab: {:.2f} градусів\".format(angle_ab_deg))\n",
        "print(\"Кут між ребрами ac: {:.2f} градусів\".format(angle_ac_deg))\n",
        "print(\"Кут між ребрами bc: {:.2f} градусів\".format(angle_bc_deg))"
      ],
      "metadata": {
        "colab": {
          "base_uri": "https://localhost:8080/"
        },
        "id": "KiCXEwBslAsp",
        "outputId": "0262cf30-4fb0-449c-a7ad-348d34fe4df2"
      },
      "execution_count": 34,
      "outputs": [
        {
          "output_type": "stream",
          "name": "stdout",
          "text": [
            "Кут між ребрами ab: 71.71 градусів\n",
            "Кут між ребрами ac: 58.91 градусів\n",
            "Кут між ребрами bc: 59.58 градусів\n"
          ]
        }
      ]
    },
    {
      "cell_type": "markdown",
      "source": [
        "## Координати інших чотирьох вершин паралелепіпеда.\n",
        "Щоб знайти координати інших вершин паралелепіпеда, можемо використати те, що паралелепіпед є прямокутником, тому будемо міняти значення координат відповідно до відповідних ребер. Ось як ми можемо знайти інші вершини:\n",
        "\n",
        "$$\n",
        "M_4 = M_1 + \\overline{b} = \\left(1,\\frac{1}{3},0\\right) + \\left(0,2,\\frac{1}{4}\\right) = \\left(1,\\frac{7}{3},\\frac{1}{4}\\right)\n",
        "$$\n",
        "\n",
        "$$\n",
        "M_5 = M_1 + \\overline{c} = \\left(1,\\frac{1}{3},0\\right) + \\left(\\frac{1}{2},\\frac{1}{2},1\\right) = \\left(\\frac{3}{2},\\frac{5}{6},1\\right)\n",
        "$$\n",
        "\n",
        "$$\n",
        "M_6 = M_2 + \\overline{c} = \\left(0,2,\\frac{1}{4}\\right) + \\left(\\frac{1}{2},\\frac{1}{2},1\\right) = \\left(\\frac{1}{2},\\frac{5}{2},\\frac{5}{4}\\right)\n",
        "$$\n",
        "\n",
        "$$\n",
        "M_7 = M_1 + \\overline{b}+ \\overline{c} = \\left(1,\\frac{1}{3},0\\right) + \\left(0,2,\\frac{1}{4}\\right) + \\left(\\frac{1}{2},\\frac{1}{2},1\\right) = \\left(\\frac{3}{2},\\frac{7}{6},\\frac{5}{4}\\right)\n",
        "$$"
      ],
      "metadata": {
        "id": "11mfzAq7mfni"
      }
    },
    {
      "cell_type": "code",
      "source": [
        "# Знаходимо інші вершини паралелепіпеда\n",
        "M4 = M1 + b\n",
        "M5 = M1 + c\n",
        "M6 = M2 + c\n",
        "M7 = M1 + c + b\n",
        "\n",
        "print(\"Координати вершин:\")\n",
        "print(\"M0:\", M0)\n",
        "print(\"M1:\", M1)\n",
        "print(\"M2:\", M2)\n",
        "print(\"M3:\", M3)\n",
        "print(\"M4:\", M4)\n",
        "print(\"M5:\", M5)\n",
        "print(\"M6:\", M6)\n",
        "print(\"M7:\", M7)"
      ],
      "metadata": {
        "colab": {
          "base_uri": "https://localhost:8080/"
        },
        "id": "j-eAe9DOng-C",
        "outputId": "084937d1-77ee-4f2e-ba19-a7c1346eec8e"
      },
      "execution_count": 36,
      "outputs": [
        {
          "output_type": "stream",
          "name": "stdout",
          "text": [
            "Координати вершин:\n",
            "M0: [0 0 0]\n",
            "M1: [1.         0.33333333 0.        ]\n",
            "M2: [0.   2.   0.25]\n",
            "M3: [0.5 0.5 1. ]\n",
            "M4: [1.         2.33333333 0.25      ]\n",
            "M5: [1.5        0.83333333 1.        ]\n",
            "M6: [0.5  2.5  1.25]\n",
            "M7: [1.5        2.83333333 1.25      ]\n"
          ]
        }
      ]
    },
    {
      "cell_type": "markdown",
      "source": [
        "## Зобразимо паралелепіпед на графіку"
      ],
      "metadata": {
        "id": "8Sk0__K6pUm4"
      }
    },
    {
      "cell_type": "code",
      "source": [
        "# Вершини паралелепіпеда\n",
        "vertices = np.array([[0, 0, 0], a, b, c, a + b, a + c, b + c, a + b + c])\n",
        "\n",
        "# Створення графіку\n",
        "fig = go.Figure()\n",
        "\n",
        "# Додавання точок\n",
        "fig.add_trace(go.Scatter3d(\n",
        "    x=vertices[:,0],\n",
        "    y=vertices[:,1],\n",
        "    z=vertices[:,2],\n",
        "    mode='markers',\n",
        "    name='Вершини паралелепіпеда',\n",
        "    marker=dict(size=6, color='blue')\n",
        "))\n",
        "\n",
        "# Додавання ліній, що утворюють грані паралелепіпеда\n",
        "lines = [[0, 1], [0, 2], [0, 3], [1, 4], [1, 5], [2, 4], [2, 6], [3, 5], [3, 6], [4, 7], [5, 7], [6, 7]]\n",
        "line_names = ['AB', 'AC', 'AD', 'BE', 'BF', 'CG', 'CH', 'DI', 'DJ', 'EK', 'FL', 'GM']\n",
        "line_colors = ['red', 'green', 'orange', 'purple', 'cyan', 'yellow', 'pink', 'brown', 'gray', 'magenta', 'lime', 'teal']\n",
        "for idx, line in enumerate(lines):\n",
        "    fig.add_trace(go.Scatter3d(\n",
        "        x=[vertices[line[0], 0], vertices[line[1], 0]],\n",
        "        y=[vertices[line[0], 1], vertices[line[1], 1]],\n",
        "        z=[vertices[line[0], 2], vertices[line[1], 2]],\n",
        "        mode='lines',\n",
        "        name=line_names[idx],  # Додаємо назву лінії\n",
        "        line=dict(color=line_colors[idx], width=3)  # Змінюємо колір лінії\n",
        "    ))\n",
        "\n",
        "# Налаштування осей\n",
        "fig.update_layout(scene=dict(\n",
        "                    xaxis=dict(title='вісь X'),\n",
        "                    yaxis=dict(title='вісь Y'),\n",
        "                    zaxis=dict(title='вісь Z')),\n",
        "                  title='Паралелепіпед')\n",
        "\n",
        "# Відображення графіку\n",
        "fig.show()"
      ],
      "metadata": {
        "colab": {
          "base_uri": "https://localhost:8080/",
          "height": 542
        },
        "id": "rY8IClbYY52f",
        "outputId": "d3028bf6-ffb4-41ed-a988-214e9bb1d64e"
      },
      "execution_count": 33,
      "outputs": [
        {
          "output_type": "display_data",
          "data": {
            "text/html": [
              "<html>\n",
              "<head><meta charset=\"utf-8\" /></head>\n",
              "<body>\n",
              "    <div>            <script src=\"https://cdnjs.cloudflare.com/ajax/libs/mathjax/2.7.5/MathJax.js?config=TeX-AMS-MML_SVG\"></script><script type=\"text/javascript\">if (window.MathJax && window.MathJax.Hub && window.MathJax.Hub.Config) {window.MathJax.Hub.Config({SVG: {font: \"STIX-Web\"}});}</script>                <script type=\"text/javascript\">window.PlotlyConfig = {MathJaxConfig: 'local'};</script>\n",
              "        <script charset=\"utf-8\" src=\"https://cdn.plot.ly/plotly-2.24.1.min.js\"></script>                <div id=\"a11b004f-b729-47d2-b60c-2cd7b67c7cf1\" class=\"plotly-graph-div\" style=\"height:525px; width:100%;\"></div>            <script type=\"text/javascript\">                                    window.PLOTLYENV=window.PLOTLYENV || {};                                    if (document.getElementById(\"a11b004f-b729-47d2-b60c-2cd7b67c7cf1\")) {                    Plotly.newPlot(                        \"a11b004f-b729-47d2-b60c-2cd7b67c7cf1\",                        [{\"marker\":{\"color\":\"blue\",\"size\":6},\"mode\":\"markers\",\"name\":\"\\u0412\\u0435\\u0440\\u0448\\u0438\\u043d\\u0438 \\u043f\\u0430\\u0440\\u0430\\u043b\\u0435\\u043b\\u0435\\u043f\\u0456\\u043f\\u0435\\u0434\\u0430\",\"x\":[0.0,1.0,0.0,0.5,1.0,1.5,0.5,1.5],\"y\":[0.0,0.3333333333333333,2.0,0.5,2.3333333333333335,0.8333333333333333,2.5,2.8333333333333335],\"z\":[0.0,0.0,0.25,1.0,0.25,1.0,1.25,1.25],\"type\":\"scatter3d\"},{\"line\":{\"color\":\"red\",\"width\":3},\"mode\":\"lines\",\"name\":\"AB\",\"x\":[0.0,1.0],\"y\":[0.0,0.3333333333333333],\"z\":[0.0,0.0],\"type\":\"scatter3d\"},{\"line\":{\"color\":\"green\",\"width\":3},\"mode\":\"lines\",\"name\":\"AC\",\"x\":[0.0,0.0],\"y\":[0.0,2.0],\"z\":[0.0,0.25],\"type\":\"scatter3d\"},{\"line\":{\"color\":\"orange\",\"width\":3},\"mode\":\"lines\",\"name\":\"AD\",\"x\":[0.0,0.5],\"y\":[0.0,0.5],\"z\":[0.0,1.0],\"type\":\"scatter3d\"},{\"line\":{\"color\":\"purple\",\"width\":3},\"mode\":\"lines\",\"name\":\"BE\",\"x\":[1.0,1.0],\"y\":[0.3333333333333333,2.3333333333333335],\"z\":[0.0,0.25],\"type\":\"scatter3d\"},{\"line\":{\"color\":\"cyan\",\"width\":3},\"mode\":\"lines\",\"name\":\"BF\",\"x\":[1.0,1.5],\"y\":[0.3333333333333333,0.8333333333333333],\"z\":[0.0,1.0],\"type\":\"scatter3d\"},{\"line\":{\"color\":\"yellow\",\"width\":3},\"mode\":\"lines\",\"name\":\"CG\",\"x\":[0.0,1.0],\"y\":[2.0,2.3333333333333335],\"z\":[0.25,0.25],\"type\":\"scatter3d\"},{\"line\":{\"color\":\"pink\",\"width\":3},\"mode\":\"lines\",\"name\":\"CH\",\"x\":[0.0,0.5],\"y\":[2.0,2.5],\"z\":[0.25,1.25],\"type\":\"scatter3d\"},{\"line\":{\"color\":\"brown\",\"width\":3},\"mode\":\"lines\",\"name\":\"DI\",\"x\":[0.5,1.5],\"y\":[0.5,0.8333333333333333],\"z\":[1.0,1.0],\"type\":\"scatter3d\"},{\"line\":{\"color\":\"gray\",\"width\":3},\"mode\":\"lines\",\"name\":\"DJ\",\"x\":[0.5,0.5],\"y\":[0.5,2.5],\"z\":[1.0,1.25],\"type\":\"scatter3d\"},{\"line\":{\"color\":\"magenta\",\"width\":3},\"mode\":\"lines\",\"name\":\"EK\",\"x\":[1.0,1.5],\"y\":[2.3333333333333335,2.8333333333333335],\"z\":[0.25,1.25],\"type\":\"scatter3d\"},{\"line\":{\"color\":\"lime\",\"width\":3},\"mode\":\"lines\",\"name\":\"FL\",\"x\":[1.5,1.5],\"y\":[0.8333333333333333,2.8333333333333335],\"z\":[1.0,1.25],\"type\":\"scatter3d\"},{\"line\":{\"color\":\"teal\",\"width\":3},\"mode\":\"lines\",\"name\":\"GM\",\"x\":[0.5,1.5],\"y\":[2.5,2.8333333333333335],\"z\":[1.25,1.25],\"type\":\"scatter3d\"}],                        {\"template\":{\"data\":{\"histogram2dcontour\":[{\"type\":\"histogram2dcontour\",\"colorbar\":{\"outlinewidth\":0,\"ticks\":\"\"},\"colorscale\":[[0.0,\"#0d0887\"],[0.1111111111111111,\"#46039f\"],[0.2222222222222222,\"#7201a8\"],[0.3333333333333333,\"#9c179e\"],[0.4444444444444444,\"#bd3786\"],[0.5555555555555556,\"#d8576b\"],[0.6666666666666666,\"#ed7953\"],[0.7777777777777778,\"#fb9f3a\"],[0.8888888888888888,\"#fdca26\"],[1.0,\"#f0f921\"]]}],\"choropleth\":[{\"type\":\"choropleth\",\"colorbar\":{\"outlinewidth\":0,\"ticks\":\"\"}}],\"histogram2d\":[{\"type\":\"histogram2d\",\"colorbar\":{\"outlinewidth\":0,\"ticks\":\"\"},\"colorscale\":[[0.0,\"#0d0887\"],[0.1111111111111111,\"#46039f\"],[0.2222222222222222,\"#7201a8\"],[0.3333333333333333,\"#9c179e\"],[0.4444444444444444,\"#bd3786\"],[0.5555555555555556,\"#d8576b\"],[0.6666666666666666,\"#ed7953\"],[0.7777777777777778,\"#fb9f3a\"],[0.8888888888888888,\"#fdca26\"],[1.0,\"#f0f921\"]]}],\"heatmap\":[{\"type\":\"heatmap\",\"colorbar\":{\"outlinewidth\":0,\"ticks\":\"\"},\"colorscale\":[[0.0,\"#0d0887\"],[0.1111111111111111,\"#46039f\"],[0.2222222222222222,\"#7201a8\"],[0.3333333333333333,\"#9c179e\"],[0.4444444444444444,\"#bd3786\"],[0.5555555555555556,\"#d8576b\"],[0.6666666666666666,\"#ed7953\"],[0.7777777777777778,\"#fb9f3a\"],[0.8888888888888888,\"#fdca26\"],[1.0,\"#f0f921\"]]}],\"heatmapgl\":[{\"type\":\"heatmapgl\",\"colorbar\":{\"outlinewidth\":0,\"ticks\":\"\"},\"colorscale\":[[0.0,\"#0d0887\"],[0.1111111111111111,\"#46039f\"],[0.2222222222222222,\"#7201a8\"],[0.3333333333333333,\"#9c179e\"],[0.4444444444444444,\"#bd3786\"],[0.5555555555555556,\"#d8576b\"],[0.6666666666666666,\"#ed7953\"],[0.7777777777777778,\"#fb9f3a\"],[0.8888888888888888,\"#fdca26\"],[1.0,\"#f0f921\"]]}],\"contourcarpet\":[{\"type\":\"contourcarpet\",\"colorbar\":{\"outlinewidth\":0,\"ticks\":\"\"}}],\"contour\":[{\"type\":\"contour\",\"colorbar\":{\"outlinewidth\":0,\"ticks\":\"\"},\"colorscale\":[[0.0,\"#0d0887\"],[0.1111111111111111,\"#46039f\"],[0.2222222222222222,\"#7201a8\"],[0.3333333333333333,\"#9c179e\"],[0.4444444444444444,\"#bd3786\"],[0.5555555555555556,\"#d8576b\"],[0.6666666666666666,\"#ed7953\"],[0.7777777777777778,\"#fb9f3a\"],[0.8888888888888888,\"#fdca26\"],[1.0,\"#f0f921\"]]}],\"surface\":[{\"type\":\"surface\",\"colorbar\":{\"outlinewidth\":0,\"ticks\":\"\"},\"colorscale\":[[0.0,\"#0d0887\"],[0.1111111111111111,\"#46039f\"],[0.2222222222222222,\"#7201a8\"],[0.3333333333333333,\"#9c179e\"],[0.4444444444444444,\"#bd3786\"],[0.5555555555555556,\"#d8576b\"],[0.6666666666666666,\"#ed7953\"],[0.7777777777777778,\"#fb9f3a\"],[0.8888888888888888,\"#fdca26\"],[1.0,\"#f0f921\"]]}],\"mesh3d\":[{\"type\":\"mesh3d\",\"colorbar\":{\"outlinewidth\":0,\"ticks\":\"\"}}],\"scatter\":[{\"fillpattern\":{\"fillmode\":\"overlay\",\"size\":10,\"solidity\":0.2},\"type\":\"scatter\"}],\"parcoords\":[{\"type\":\"parcoords\",\"line\":{\"colorbar\":{\"outlinewidth\":0,\"ticks\":\"\"}}}],\"scatterpolargl\":[{\"type\":\"scatterpolargl\",\"marker\":{\"colorbar\":{\"outlinewidth\":0,\"ticks\":\"\"}}}],\"bar\":[{\"error_x\":{\"color\":\"#2a3f5f\"},\"error_y\":{\"color\":\"#2a3f5f\"},\"marker\":{\"line\":{\"color\":\"#E5ECF6\",\"width\":0.5},\"pattern\":{\"fillmode\":\"overlay\",\"size\":10,\"solidity\":0.2}},\"type\":\"bar\"}],\"scattergeo\":[{\"type\":\"scattergeo\",\"marker\":{\"colorbar\":{\"outlinewidth\":0,\"ticks\":\"\"}}}],\"scatterpolar\":[{\"type\":\"scatterpolar\",\"marker\":{\"colorbar\":{\"outlinewidth\":0,\"ticks\":\"\"}}}],\"histogram\":[{\"marker\":{\"pattern\":{\"fillmode\":\"overlay\",\"size\":10,\"solidity\":0.2}},\"type\":\"histogram\"}],\"scattergl\":[{\"type\":\"scattergl\",\"marker\":{\"colorbar\":{\"outlinewidth\":0,\"ticks\":\"\"}}}],\"scatter3d\":[{\"type\":\"scatter3d\",\"line\":{\"colorbar\":{\"outlinewidth\":0,\"ticks\":\"\"}},\"marker\":{\"colorbar\":{\"outlinewidth\":0,\"ticks\":\"\"}}}],\"scattermapbox\":[{\"type\":\"scattermapbox\",\"marker\":{\"colorbar\":{\"outlinewidth\":0,\"ticks\":\"\"}}}],\"scatterternary\":[{\"type\":\"scatterternary\",\"marker\":{\"colorbar\":{\"outlinewidth\":0,\"ticks\":\"\"}}}],\"scattercarpet\":[{\"type\":\"scattercarpet\",\"marker\":{\"colorbar\":{\"outlinewidth\":0,\"ticks\":\"\"}}}],\"carpet\":[{\"aaxis\":{\"endlinecolor\":\"#2a3f5f\",\"gridcolor\":\"white\",\"linecolor\":\"white\",\"minorgridcolor\":\"white\",\"startlinecolor\":\"#2a3f5f\"},\"baxis\":{\"endlinecolor\":\"#2a3f5f\",\"gridcolor\":\"white\",\"linecolor\":\"white\",\"minorgridcolor\":\"white\",\"startlinecolor\":\"#2a3f5f\"},\"type\":\"carpet\"}],\"table\":[{\"cells\":{\"fill\":{\"color\":\"#EBF0F8\"},\"line\":{\"color\":\"white\"}},\"header\":{\"fill\":{\"color\":\"#C8D4E3\"},\"line\":{\"color\":\"white\"}},\"type\":\"table\"}],\"barpolar\":[{\"marker\":{\"line\":{\"color\":\"#E5ECF6\",\"width\":0.5},\"pattern\":{\"fillmode\":\"overlay\",\"size\":10,\"solidity\":0.2}},\"type\":\"barpolar\"}],\"pie\":[{\"automargin\":true,\"type\":\"pie\"}]},\"layout\":{\"autotypenumbers\":\"strict\",\"colorway\":[\"#636efa\",\"#EF553B\",\"#00cc96\",\"#ab63fa\",\"#FFA15A\",\"#19d3f3\",\"#FF6692\",\"#B6E880\",\"#FF97FF\",\"#FECB52\"],\"font\":{\"color\":\"#2a3f5f\"},\"hovermode\":\"closest\",\"hoverlabel\":{\"align\":\"left\"},\"paper_bgcolor\":\"white\",\"plot_bgcolor\":\"#E5ECF6\",\"polar\":{\"bgcolor\":\"#E5ECF6\",\"angularaxis\":{\"gridcolor\":\"white\",\"linecolor\":\"white\",\"ticks\":\"\"},\"radialaxis\":{\"gridcolor\":\"white\",\"linecolor\":\"white\",\"ticks\":\"\"}},\"ternary\":{\"bgcolor\":\"#E5ECF6\",\"aaxis\":{\"gridcolor\":\"white\",\"linecolor\":\"white\",\"ticks\":\"\"},\"baxis\":{\"gridcolor\":\"white\",\"linecolor\":\"white\",\"ticks\":\"\"},\"caxis\":{\"gridcolor\":\"white\",\"linecolor\":\"white\",\"ticks\":\"\"}},\"coloraxis\":{\"colorbar\":{\"outlinewidth\":0,\"ticks\":\"\"}},\"colorscale\":{\"sequential\":[[0.0,\"#0d0887\"],[0.1111111111111111,\"#46039f\"],[0.2222222222222222,\"#7201a8\"],[0.3333333333333333,\"#9c179e\"],[0.4444444444444444,\"#bd3786\"],[0.5555555555555556,\"#d8576b\"],[0.6666666666666666,\"#ed7953\"],[0.7777777777777778,\"#fb9f3a\"],[0.8888888888888888,\"#fdca26\"],[1.0,\"#f0f921\"]],\"sequentialminus\":[[0.0,\"#0d0887\"],[0.1111111111111111,\"#46039f\"],[0.2222222222222222,\"#7201a8\"],[0.3333333333333333,\"#9c179e\"],[0.4444444444444444,\"#bd3786\"],[0.5555555555555556,\"#d8576b\"],[0.6666666666666666,\"#ed7953\"],[0.7777777777777778,\"#fb9f3a\"],[0.8888888888888888,\"#fdca26\"],[1.0,\"#f0f921\"]],\"diverging\":[[0,\"#8e0152\"],[0.1,\"#c51b7d\"],[0.2,\"#de77ae\"],[0.3,\"#f1b6da\"],[0.4,\"#fde0ef\"],[0.5,\"#f7f7f7\"],[0.6,\"#e6f5d0\"],[0.7,\"#b8e186\"],[0.8,\"#7fbc41\"],[0.9,\"#4d9221\"],[1,\"#276419\"]]},\"xaxis\":{\"gridcolor\":\"white\",\"linecolor\":\"white\",\"ticks\":\"\",\"title\":{\"standoff\":15},\"zerolinecolor\":\"white\",\"automargin\":true,\"zerolinewidth\":2},\"yaxis\":{\"gridcolor\":\"white\",\"linecolor\":\"white\",\"ticks\":\"\",\"title\":{\"standoff\":15},\"zerolinecolor\":\"white\",\"automargin\":true,\"zerolinewidth\":2},\"scene\":{\"xaxis\":{\"backgroundcolor\":\"#E5ECF6\",\"gridcolor\":\"white\",\"linecolor\":\"white\",\"showbackground\":true,\"ticks\":\"\",\"zerolinecolor\":\"white\",\"gridwidth\":2},\"yaxis\":{\"backgroundcolor\":\"#E5ECF6\",\"gridcolor\":\"white\",\"linecolor\":\"white\",\"showbackground\":true,\"ticks\":\"\",\"zerolinecolor\":\"white\",\"gridwidth\":2},\"zaxis\":{\"backgroundcolor\":\"#E5ECF6\",\"gridcolor\":\"white\",\"linecolor\":\"white\",\"showbackground\":true,\"ticks\":\"\",\"zerolinecolor\":\"white\",\"gridwidth\":2}},\"shapedefaults\":{\"line\":{\"color\":\"#2a3f5f\"}},\"annotationdefaults\":{\"arrowcolor\":\"#2a3f5f\",\"arrowhead\":0,\"arrowwidth\":1},\"geo\":{\"bgcolor\":\"white\",\"landcolor\":\"#E5ECF6\",\"subunitcolor\":\"white\",\"showland\":true,\"showlakes\":true,\"lakecolor\":\"white\"},\"title\":{\"x\":0.05},\"mapbox\":{\"style\":\"light\"}}},\"scene\":{\"xaxis\":{\"title\":{\"text\":\"\\u0432\\u0456\\u0441\\u044c X\"}},\"yaxis\":{\"title\":{\"text\":\"\\u0432\\u0456\\u0441\\u044c Y\"}},\"zaxis\":{\"title\":{\"text\":\"\\u0432\\u0456\\u0441\\u044c Z\"}}},\"title\":{\"text\":\"\\u041f\\u0430\\u0440\\u0430\\u043b\\u0435\\u043b\\u0435\\u043f\\u0456\\u043f\\u0435\\u0434\"}},                        {\"responsive\": true}                    ).then(function(){\n",
              "                            \n",
              "var gd = document.getElementById('a11b004f-b729-47d2-b60c-2cd7b67c7cf1');\n",
              "var x = new MutationObserver(function (mutations, observer) {{\n",
              "        var display = window.getComputedStyle(gd).display;\n",
              "        if (!display || display === 'none') {{\n",
              "            console.log([gd, 'removed!']);\n",
              "            Plotly.purge(gd);\n",
              "            observer.disconnect();\n",
              "        }}\n",
              "}});\n",
              "\n",
              "// Listen for the removal of the full notebook cells\n",
              "var notebookContainer = gd.closest('#notebook-container');\n",
              "if (notebookContainer) {{\n",
              "    x.observe(notebookContainer, {childList: true});\n",
              "}}\n",
              "\n",
              "// Listen for the clearing of the current output cell\n",
              "var outputEl = gd.closest('.output');\n",
              "if (outputEl) {{\n",
              "    x.observe(outputEl, {childList: true});\n",
              "}}\n",
              "\n",
              "                        })                };                            </script>        </div>\n",
              "</body>\n",
              "</html>"
            ]
          },
          "metadata": {}
        }
      ]
    }
  ]
}