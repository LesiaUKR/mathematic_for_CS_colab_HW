{
  "nbformat": 4,
  "nbformat_minor": 0,
  "metadata": {
    "colab": {
      "provenance": []
    },
    "kernelspec": {
      "name": "python3",
      "display_name": "Python 3"
    },
    "language_info": {
      "name": "python"
    }
  },
  "cells": [
    {
      "cell_type": "markdown",
      "source": [
        "# Завдання 1\n",
        "Виріши аналітично задачу з текстовою умовою\n",
        "\n",
        "Над проектом працювало 3 типи спеціалістів - дизайнери, розробники та тестувальники. Ми знаємо кількість годин на кожному етапі розробки та кількість грошей, які закладені на виконання кожного етапу в якості собівартості.\n",
        "Всю розробку менеджер розділив на 3 етапи: створення дизайну, розробка програмної частини, фінальне тестування.\n",
        "\n",
        "На першому етапі відпрацьовано 20 годин дизайнером та 3 години розробниками - на даному етапі до смети закладено 775 доларів.\n",
        "На другому етапі дизайнери відпрацювали 8 годин, розробники - 28, а тестувальники - 4. Даний етап було оцінено в 1012 доларів.\n",
        "На фінальному етапі дизайнери відпрацювали 4 години, розробники - 12, а тестувальники 32. Трудові ресурси на цьому етапі оцінені в 696 доларів.\n",
        "\n",
        "Знайди вартість години у кожного спеціаліста шляхом вирішення системи лінійних рівнянь, базуючись на даних по етапах розробки."
      ],
      "metadata": {
        "id": "AIw8Nl0sbsd0"
      }
    },
    {
      "cell_type": "markdown",
      "source": [
        "Розв'язок:\n",
        "Для розв'язання задачі, почнемо зі складання системи лінійних рівнянь на основі наданих даних. Позначимо вартість години роботи дизайнерів, розробників та тестувальників відповідно через 𝑥, y і z. Тоді з урахуванням витрат на кожному етапі маємо такі рівняння:\n",
        "$$\n",
        "\\left\\{\\begin{matrix}\n",
        "20x+3y=775\\\\\n",
        "8x+28y+4z=1012\\\\\n",
        "4x+12y+32z=696\n",
        "\\end{matrix}\\right.\n",
        "\\\\\n",
        "$$"
      ],
      "metadata": {
        "id": "lj_B2d51b2Ai"
      }
    },
    {
      "cell_type": "markdown",
      "source": [
        "*Розв'язувати можна будь-яким методом, але метод Крамера, потенційно, буде найлегшим*\n",
        "Це система лінійних рівнянь, яку можна записати в матричній формі як:\n",
        "$$\n",
        "A \\overline x = b, де\n",
        "$$\n"
      ],
      "metadata": {
        "id": "0V-eKvxDskeu"
      }
    },
    {
      "cell_type": "markdown",
      "source": [
        "\n",
        "$A =\n",
        "\\left (\\begin{array}{cc}\n",
        "20 & 3 & 0 \\\\\n",
        "8 & 28 & 4 \\\\\n",
        "4 & 12 & 32\n",
        "\\end{array}\\right)\n",
        "\\\\\n",
        "\\\n",
        "b =\n",
        "\\left (\\begin{array}{cc}\n",
        "775 \\\\\n",
        "1012 \\\\\n",
        "696\n",
        "\\end{array}\\right)\n",
        "\\\\\n",
        "\\\n",
        "\\overline{x}=\n",
        "\\left (\\begin{array}{cc}\n",
        "​x\\\\\n",
        "y\\\\\n",
        "z\n",
        "\\end{array}\\right)\n",
        "\\\\\n",
        "$\n",
        "\n",
        "\n",
        "# *Метод Крамера для розв'язання системи лінійних рівнянь використовує визначники матриць.*\n",
        "\\\n",
        "## Щоб знайти розв'язок системи за методом Крамера, потрібно знайти визначники:\n",
        "\n",
        "### 1. Основний визначник матриці. Якщо він є ненульовим, тоді система рівнянь матиме один розв'язок:\n",
        "\\\n",
        "$$\\Delta = \\left|A\\right|$$\n",
        "\\\n",
        "$$\n",
        "\\Delta = \\left|A\\right|=\n",
        "\\begin{vmatrix}\n",
        "20 & 3 & 0\\\\\n",
        "8 & 28 & 4\\\\\n",
        "4 & 12 & 32\n",
        "\\end{vmatrix}\\\n",
        "$$\n",
        "\\\n",
        "$$\\Delta=20(28⋅32−4⋅12)−3(8⋅32−4⋅4)+0(8⋅12−28⋅4)=20(896−48)−3(256−16)+0(96−112)=20⋅848−3⋅240+0⋅(−16)=16960−720=16240\n",
        "$$\n",
        "\n",
        "\n",
        "\n",
        "\n",
        "\n",
        "\n",
        "\n",
        "\n"
      ],
      "metadata": {
        "id": "MAH-Rm9NpAoi"
      }
    },
    {
      "cell_type": "code",
      "source": [
        "import numpy as np\n",
        "\n",
        "# Матриця витрат годин\n",
        "A = np.array([\n",
        "    [20, 3, 0],\n",
        "    [8, 28, 4],\n",
        "    [4, 12, 32]\n",
        "])\n",
        "\n",
        "# Вектор витрат на кодному етапі в USD\n",
        "b = np.array([775, 1012, 696])\n",
        "\n",
        "# Основний визначник\n",
        "det_A = np.linalg.det(A)\n",
        "print(det_A)"
      ],
      "metadata": {
        "colab": {
          "base_uri": "https://localhost:8080/"
        },
        "id": "WanRfbnPewn4",
        "outputId": "db58f010-b2b7-43db-88af-0f475ab49c12"
      },
      "execution_count": 1,
      "outputs": [
        {
          "output_type": "stream",
          "name": "stdout",
          "text": [
            "16240.000000000005\n"
          ]
        }
      ]
    },
    {
      "cell_type": "markdown",
      "source": [
        "## Обчислюємо визначники $\\Delta_{x}$\\,$\\Delta_{y}$\\, $\\Delta_{z}$ шляхом заміни відповідних стовпців на вектор b.\n",
        "\n",
        "### 2. Визначник для $\\Delta_{x}$:\n",
        "\\\n",
        "$$\n",
        "A_{x}=\n",
        "\\begin{vmatrix}\n",
        "775 & 3 & 0\\\\\n",
        "1012 & 28 & 4\\\\\n",
        "696 & 12 & 32\n",
        "\\end{vmatrix}\\\n",
        "$$\n",
        "\\\n",
        "$$\n",
        "\\Delta_{x}=\n",
        "775\\begin{vmatrix}\n",
        " 28 & 4\\\\\n",
        " 12 & 32\n",
        "\\end{vmatrix}-3\\begin{vmatrix}\n",
        " 1012 & 4\\\\\n",
        " 696 & 32\n",
        "\\end{vmatrix}+0\\begin{vmatrix}\n",
        " 1012 & 28\\\\\n",
        " 696 & 12\n",
        "\\end{vmatrix}=775((28⋅32)−(4⋅12))-3((1012⋅32)−(4⋅696))+0=\\\\\n",
        "=775(896−48)−3(32384−2784)\\\\\n",
        "$$\n",
        "\\\n",
        "$$\n",
        "\\Delta_{x}=657200−88800=568400\n",
        "$$"
      ],
      "metadata": {
        "id": "xim0JUmzegP1"
      }
    },
    {
      "cell_type": "markdown",
      "source": [
        "### 3. Визначник для $\\Delta_{y}:$\n",
        "$$\n",
        "A_{y}=\n",
        "\\begin{vmatrix}\n",
        "20 & 775 & 0\\\\\n",
        "8 & 1012 & 4\\\\\n",
        "4 & 696 & 32\n",
        "\\end{vmatrix}\\\n",
        "$$\n",
        "\\\n",
        "$$\n",
        "\\Delta_{y}=\n",
        "20\\begin{vmatrix}\n",
        " 1012 & 4\\\\\n",
        " 696 & 32\n",
        "\\end{vmatrix}-775\\begin{vmatrix}\n",
        " 8 & 4\\\\\n",
        " 4 & 32\n",
        "\\end{vmatrix}+0\\begin{vmatrix}\n",
        " 8 & 1012\\\\\n",
        " 4 & 696\n",
        "\\end{vmatrix}=20⋅29600-775((8⋅32)−(4⋅4))+0\\\\\n",
        "$$\n",
        "$$\n",
        "\\Delta_{y}=592000−186000=406000\n",
        "$$"
      ],
      "metadata": {
        "id": "Fappwv6id9AU"
      }
    },
    {
      "cell_type": "markdown",
      "source": [
        "### 4. Визначник для $\\Delta_{z}:$\n",
        "\\\n",
        "$$\n",
        "A_{z}=\n",
        "\\begin{vmatrix}\n",
        "20 & 3 & 775\\\\\n",
        "8 & 28 & 1012\\\\\n",
        "4 & 12 & 696\n",
        "\\end{vmatrix}\\\n",
        "$$\n",
        "\\\n",
        "$$\n",
        "\\Delta_{z}=\n",
        "20\\begin{vmatrix}\n",
        " 28 & 1012\\\\\n",
        " 12 & 696\n",
        "\\end{vmatrix}-3\\begin{vmatrix}\n",
        " 8 & 1012\\\\\n",
        " 4 & 696\n",
        "\\end{vmatrix}+775\\begin{vmatrix}\n",
        " 8 & 28\\\\\n",
        " 4 & 12\n",
        "\\end{vmatrix}=20((28⋅696)−(1012⋅12))-3((8⋅696)−(1012⋅4))+775((8⋅12)−(28⋅4))=\\\\\n",
        "=20(19488−12144)-3(5568−4048)+775(96−112)\\\\\n",
        "$$\n",
        "$$\n",
        "\\Delta_{z}=146880−4560−12400=129920\n",
        "$$"
      ],
      "metadata": {
        "id": "VvHh-99vgpOr"
      }
    },
    {
      "cell_type": "code",
      "source": [
        "# Матриці для визначників змінних\n",
        "A_x = A.copy()\n",
        "A_y = A.copy()\n",
        "A_z = A.copy()\n",
        "\n",
        "A_x[:, 0] = b\n",
        "A_y[:, 1] = b\n",
        "A_z[:, 2] = b\n",
        "\n",
        "# Визначники для змінних\n",
        "det_A_x = np.linalg.det(A_x)\n",
        "det_A_y = np.linalg.det(A_y)\n",
        "det_A_z = np.linalg.det(A_z)\n",
        "\n",
        "print(det_A_x)\n",
        "print(det_A_y)\n",
        "print(det_A_z)"
      ],
      "metadata": {
        "colab": {
          "base_uri": "https://localhost:8080/"
        },
        "id": "-q-15sLzhz7W",
        "outputId": "44269c1a-da19-4bc5-cfa9-e342aff54efc"
      },
      "execution_count": 2,
      "outputs": [
        {
          "output_type": "stream",
          "name": "stdout",
          "text": [
            "568399.9999999998\n",
            "405999.99999999953\n",
            "129920.00000000007\n"
          ]
        }
      ]
    },
    {
      "cell_type": "markdown",
      "source": [
        "## Розрахуємо значення змінних на основі отриманих даних:\n",
        "\n",
        "$$\n",
        "x=\n",
        "\\frac{\\Delta_{x}}{\\Delta}\n",
        "=\n",
        "\\frac{568 400}{16 240}​≈35\\:USD\\:(дизайнер)\n",
        "$$\n",
        "\\\n",
        "$$\n",
        "y=\n",
        "\\frac{\\Delta_{y}}{\\Delta}\n",
        "=\n",
        "\\frac{406 000}{16 240}​≈25\\:USD\\:(розробник)\n",
        "$$\n",
        "\\\n",
        "$$\n",
        "z=\n",
        "\\frac{\\Delta_{z}}{\\Delta}\n",
        "=\n",
        "\\frac{129 920}{16 240}​≈8\\:USD\\:(ткстувальник)\n",
        "$$"
      ],
      "metadata": {
        "id": "pDNXkDxrglQP"
      }
    },
    {
      "cell_type": "code",
      "source": [
        "# Значення змінних\n",
        "x = det_A_x / det_A\n",
        "y = det_A_y / det_A\n",
        "z = det_A_z / det_A\n",
        "\n",
        "print(x)\n",
        "print(y)\n",
        "print(z)"
      ],
      "metadata": {
        "colab": {
          "base_uri": "https://localhost:8080/"
        },
        "id": "eFVN5JZ-kZLA",
        "outputId": "74445b3b-396f-4038-e6d0-845f4ad0e557"
      },
      "execution_count": 5,
      "outputs": [
        {
          "output_type": "stream",
          "name": "stdout",
          "text": [
            "34.99999999999997\n",
            "24.999999999999964\n",
            "8.000000000000002\n"
          ]
        }
      ]
    },
    {
      "cell_type": "markdown",
      "source": [
        "# Завдання 2\n",
        "- Задай матрицю та вектор вільних членів для наступної системи:"
      ],
      "metadata": {
        "id": "bHTmMx9mDoWb"
      }
    },
    {
      "cell_type": "markdown",
      "source": [
        "$$\n",
        "\\left\\{\\begin{matrix}\n",
        "-x_1+х_2+2x_3=1\\\\\n",
        "-x_2-3x_3=-4\\\\\n",
        "4x_1-3x_2+2x_3=7\n",
        "\\end{matrix}\\right.\n",
        "$$"
      ],
      "metadata": {
        "id": "Hwb1-KHJAPmR"
      }
    },
    {
      "cell_type": "markdown",
      "source": [
        "- Матриця коефіцієнтів A:\n",
        "$$\n",
        "A =\n",
        "\\left (\\begin{array}{cc}\n",
        "-1 & 1 & 2 \\\\\n",
        "0 & -1 & -3 \\\\\n",
        "4 & -3 & 2\n",
        "\\end{array}\\right)\n",
        "$$"
      ],
      "metadata": {
        "id": "sZ57X-NMlWrp"
      }
    },
    {
      "cell_type": "markdown",
      "source": [
        "- Вектор вільних членів b:\n",
        "$$\n",
        "b =\n",
        "\\left (\\begin{array}{cc}\n",
        "1\\\\\n",
        "-4\\\\\n",
        "7\n",
        "\\end{array}\\right)\n",
        "$$\n",
        "\n"
      ],
      "metadata": {
        "id": "osABJrzrlyCP"
      }
    },
    {
      "cell_type": "markdown",
      "source": [
        "# Реалізація для розв'язання матричним методом"
      ],
      "metadata": {
        "id": "RsNQvr8SoN2_"
      }
    },
    {
      "cell_type": "code",
      "source": [
        "import numpy as np\n",
        "A = np.array([\n",
        "    [-1, 1, 2],\n",
        "    [0, -1, -3],\n",
        "    [4, -3, 2]\n",
        "])\n",
        "\n",
        "b = np.array([1, -4, 7])\n",
        "\n",
        "# Функція для вирішення системи матричним методом\n",
        "def solve_inv_matrix(A, b, verbose=False):\n",
        "    A_inv = np.linalg.inv(A)  # Обернена матриця\n",
        "    x = np.dot(A_inv, b)  # Розв'язок системи\n",
        "    return x\n",
        "\n",
        "# Виводимо результат\n",
        "print(f\"Вектор рішення: \\r\\n {solve_inv_matrix(A, b)}\")"
      ],
      "metadata": {
        "id": "T4BEZ2vXByqI",
        "colab": {
          "base_uri": "https://localhost:8080/"
        },
        "outputId": "dbedefdc-07c0-4b0d-a29c-2bc4a78f5b5f"
      },
      "execution_count": 9,
      "outputs": [
        {
          "output_type": "stream",
          "name": "stdout",
          "text": [
            "Вектор рішення: \r\n",
            " [2. 1. 1.]\n"
          ]
        }
      ]
    },
    {
      "cell_type": "markdown",
      "source": [
        " # Реалізація для розв'язання системи методом Крамера:"
      ],
      "metadata": {
        "id": "ODiX3J09oWV6"
      }
    },
    {
      "cell_type": "code",
      "source": [
        "# Функція для вирішення системи методом Крамера\n",
        "def solve_cramers_rule(A, b):\n",
        "    delta = np.linalg.det(A)\n",
        "\n",
        "    if delta == 0:\n",
        "        raise ValueError(\"Система не має єдиного розв'язку (матриця вироджена).\")\n",
        "\n",
        "    # Визначники для кожної змінної\n",
        "    delta_x1 = np.linalg.det(np.column_stack([b, A[:, 1], A[:, 2]]))\n",
        "    delta_x2 = np.linalg.det(np.column_stack([A[:, 0], b, A[:, 2]]))\n",
        "    delta_x3 = np.linalg.det(np.column_stack([A[:, 0], A[:, 1], b]))\n",
        "\n",
        "    x1 = delta_x1 / delta\n",
        "    x2 = delta_x2 / delta\n",
        "    x3 = delta_x3 / delta\n",
        "\n",
        "    return np.array([x1, x2, x3])\n",
        "\n",
        "# Виводимо результат\n",
        "print(f\"Вектор рішення методом Крамера: \\r\\n {solve_cramers_rule(A, b)}\")"
      ],
      "metadata": {
        "id": "PJMQzXkrAQmM",
        "colab": {
          "base_uri": "https://localhost:8080/"
        },
        "outputId": "dae03b46-06dc-42e4-b4e2-eb1ffcee960f"
      },
      "execution_count": 10,
      "outputs": [
        {
          "output_type": "stream",
          "name": "stdout",
          "text": [
            "Вектор рішення методом Крамера: \r\n",
            " [2. 1. 1.]\n"
          ]
        }
      ]
    }
  ]
}